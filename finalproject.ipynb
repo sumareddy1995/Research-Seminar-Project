{
 "cells": [
  {
   "cell_type": "code",
   "execution_count": 523,
   "metadata": {},
   "outputs": [],
   "source": [
    "import numpy as np\n",
    "import pandas as pd\n",
    "import matplotlib.pyplot as plt\n",
    "import seaborn as sns"
   ]
  },
  {
   "cell_type": "code",
   "execution_count": 524,
   "metadata": {},
   "outputs": [
    {
     "data": {
      "text/html": [
       "<div>\n",
       "<style scoped>\n",
       "    .dataframe tbody tr th:only-of-type {\n",
       "        vertical-align: middle;\n",
       "    }\n",
       "\n",
       "    .dataframe tbody tr th {\n",
       "        vertical-align: top;\n",
       "    }\n",
       "\n",
       "    .dataframe thead th {\n",
       "        text-align: right;\n",
       "    }\n",
       "</style>\n",
       "<table border=\"1\" class=\"dataframe\">\n",
       "  <thead>\n",
       "    <tr style=\"text-align: right;\">\n",
       "      <th></th>\n",
       "      <th>Restaurant ID</th>\n",
       "      <th>Restaurant Name</th>\n",
       "      <th>Country Code</th>\n",
       "      <th>City</th>\n",
       "      <th>Address</th>\n",
       "      <th>Locality</th>\n",
       "      <th>Locality Verbose</th>\n",
       "      <th>Longitude</th>\n",
       "      <th>Latitude</th>\n",
       "      <th>Cuisines</th>\n",
       "      <th>...</th>\n",
       "      <th>Has Table booking</th>\n",
       "      <th>Has Online delivery</th>\n",
       "      <th>Is delivering now</th>\n",
       "      <th>Switch to order menu</th>\n",
       "      <th>Price range</th>\n",
       "      <th>Aggregate rating</th>\n",
       "      <th>Rating color</th>\n",
       "      <th>Rating text</th>\n",
       "      <th>Votes</th>\n",
       "      <th>Country</th>\n",
       "    </tr>\n",
       "  </thead>\n",
       "  <tbody>\n",
       "    <tr>\n",
       "      <th>0</th>\n",
       "      <td>6317637</td>\n",
       "      <td>Le Petit Souffle</td>\n",
       "      <td>162</td>\n",
       "      <td>Makati City</td>\n",
       "      <td>Third Floor, Century City Mall, Kalayaan Avenu...</td>\n",
       "      <td>Century City Mall, Poblacion, Makati City</td>\n",
       "      <td>Century City Mall, Poblacion, Makati City, Mak...</td>\n",
       "      <td>121.027535</td>\n",
       "      <td>14.565443</td>\n",
       "      <td>French, Japanese, Desserts</td>\n",
       "      <td>...</td>\n",
       "      <td>Yes</td>\n",
       "      <td>No</td>\n",
       "      <td>No</td>\n",
       "      <td>No</td>\n",
       "      <td>3</td>\n",
       "      <td>4.8</td>\n",
       "      <td>Dark Green</td>\n",
       "      <td>Excellent</td>\n",
       "      <td>314</td>\n",
       "      <td>Phillipines</td>\n",
       "    </tr>\n",
       "    <tr>\n",
       "      <th>1</th>\n",
       "      <td>6304287</td>\n",
       "      <td>Izakaya Kikufuji</td>\n",
       "      <td>162</td>\n",
       "      <td>Makati City</td>\n",
       "      <td>Little Tokyo, 2277 Chino Roces Avenue, Legaspi...</td>\n",
       "      <td>Little Tokyo, Legaspi Village, Makati City</td>\n",
       "      <td>Little Tokyo, Legaspi Village, Makati City, Ma...</td>\n",
       "      <td>121.014101</td>\n",
       "      <td>14.553708</td>\n",
       "      <td>Japanese</td>\n",
       "      <td>...</td>\n",
       "      <td>Yes</td>\n",
       "      <td>No</td>\n",
       "      <td>No</td>\n",
       "      <td>No</td>\n",
       "      <td>3</td>\n",
       "      <td>4.5</td>\n",
       "      <td>Dark Green</td>\n",
       "      <td>Excellent</td>\n",
       "      <td>591</td>\n",
       "      <td>Phillipines</td>\n",
       "    </tr>\n",
       "    <tr>\n",
       "      <th>2</th>\n",
       "      <td>6300002</td>\n",
       "      <td>Heat - Edsa Shangri-La</td>\n",
       "      <td>162</td>\n",
       "      <td>Mandaluyong City</td>\n",
       "      <td>Edsa Shangri-La, 1 Garden Way, Ortigas, Mandal...</td>\n",
       "      <td>Edsa Shangri-La, Ortigas, Mandaluyong City</td>\n",
       "      <td>Edsa Shangri-La, Ortigas, Mandaluyong City, Ma...</td>\n",
       "      <td>121.056831</td>\n",
       "      <td>14.581404</td>\n",
       "      <td>Seafood, Asian, Filipino, Indian</td>\n",
       "      <td>...</td>\n",
       "      <td>Yes</td>\n",
       "      <td>No</td>\n",
       "      <td>No</td>\n",
       "      <td>No</td>\n",
       "      <td>4</td>\n",
       "      <td>4.4</td>\n",
       "      <td>Green</td>\n",
       "      <td>Very Good</td>\n",
       "      <td>270</td>\n",
       "      <td>Phillipines</td>\n",
       "    </tr>\n",
       "    <tr>\n",
       "      <th>3</th>\n",
       "      <td>6318506</td>\n",
       "      <td>Ooma</td>\n",
       "      <td>162</td>\n",
       "      <td>Mandaluyong City</td>\n",
       "      <td>Third Floor, Mega Fashion Hall, SM Megamall, O...</td>\n",
       "      <td>SM Megamall, Ortigas, Mandaluyong City</td>\n",
       "      <td>SM Megamall, Ortigas, Mandaluyong City, Mandal...</td>\n",
       "      <td>121.056475</td>\n",
       "      <td>14.585318</td>\n",
       "      <td>Japanese, Sushi</td>\n",
       "      <td>...</td>\n",
       "      <td>No</td>\n",
       "      <td>No</td>\n",
       "      <td>No</td>\n",
       "      <td>No</td>\n",
       "      <td>4</td>\n",
       "      <td>4.9</td>\n",
       "      <td>Dark Green</td>\n",
       "      <td>Excellent</td>\n",
       "      <td>365</td>\n",
       "      <td>Phillipines</td>\n",
       "    </tr>\n",
       "    <tr>\n",
       "      <th>4</th>\n",
       "      <td>6314302</td>\n",
       "      <td>Sambo Kojin</td>\n",
       "      <td>162</td>\n",
       "      <td>Mandaluyong City</td>\n",
       "      <td>Third Floor, Mega Atrium, SM Megamall, Ortigas...</td>\n",
       "      <td>SM Megamall, Ortigas, Mandaluyong City</td>\n",
       "      <td>SM Megamall, Ortigas, Mandaluyong City, Mandal...</td>\n",
       "      <td>121.057508</td>\n",
       "      <td>14.584450</td>\n",
       "      <td>Japanese, Korean</td>\n",
       "      <td>...</td>\n",
       "      <td>Yes</td>\n",
       "      <td>No</td>\n",
       "      <td>No</td>\n",
       "      <td>No</td>\n",
       "      <td>4</td>\n",
       "      <td>4.8</td>\n",
       "      <td>Dark Green</td>\n",
       "      <td>Excellent</td>\n",
       "      <td>229</td>\n",
       "      <td>Phillipines</td>\n",
       "    </tr>\n",
       "  </tbody>\n",
       "</table>\n",
       "<p>5 rows × 22 columns</p>\n",
       "</div>"
      ],
      "text/plain": [
       "   Restaurant ID         Restaurant Name  Country Code              City  \\\n",
       "0        6317637        Le Petit Souffle           162       Makati City   \n",
       "1        6304287        Izakaya Kikufuji           162       Makati City   \n",
       "2        6300002  Heat - Edsa Shangri-La           162  Mandaluyong City   \n",
       "3        6318506                    Ooma           162  Mandaluyong City   \n",
       "4        6314302             Sambo Kojin           162  Mandaluyong City   \n",
       "\n",
       "                                             Address  \\\n",
       "0  Third Floor, Century City Mall, Kalayaan Avenu...   \n",
       "1  Little Tokyo, 2277 Chino Roces Avenue, Legaspi...   \n",
       "2  Edsa Shangri-La, 1 Garden Way, Ortigas, Mandal...   \n",
       "3  Third Floor, Mega Fashion Hall, SM Megamall, O...   \n",
       "4  Third Floor, Mega Atrium, SM Megamall, Ortigas...   \n",
       "\n",
       "                                     Locality  \\\n",
       "0   Century City Mall, Poblacion, Makati City   \n",
       "1  Little Tokyo, Legaspi Village, Makati City   \n",
       "2  Edsa Shangri-La, Ortigas, Mandaluyong City   \n",
       "3      SM Megamall, Ortigas, Mandaluyong City   \n",
       "4      SM Megamall, Ortigas, Mandaluyong City   \n",
       "\n",
       "                                    Locality Verbose   Longitude   Latitude  \\\n",
       "0  Century City Mall, Poblacion, Makati City, Mak...  121.027535  14.565443   \n",
       "1  Little Tokyo, Legaspi Village, Makati City, Ma...  121.014101  14.553708   \n",
       "2  Edsa Shangri-La, Ortigas, Mandaluyong City, Ma...  121.056831  14.581404   \n",
       "3  SM Megamall, Ortigas, Mandaluyong City, Mandal...  121.056475  14.585318   \n",
       "4  SM Megamall, Ortigas, Mandaluyong City, Mandal...  121.057508  14.584450   \n",
       "\n",
       "                           Cuisines     ...       Has Table booking  \\\n",
       "0        French, Japanese, Desserts     ...                     Yes   \n",
       "1                          Japanese     ...                     Yes   \n",
       "2  Seafood, Asian, Filipino, Indian     ...                     Yes   \n",
       "3                   Japanese, Sushi     ...                      No   \n",
       "4                  Japanese, Korean     ...                     Yes   \n",
       "\n",
       "  Has Online delivery Is delivering now Switch to order menu Price range  \\\n",
       "0                  No                No                   No           3   \n",
       "1                  No                No                   No           3   \n",
       "2                  No                No                   No           4   \n",
       "3                  No                No                   No           4   \n",
       "4                  No                No                   No           4   \n",
       "\n",
       "  Aggregate rating  Rating color  Rating text Votes      Country  \n",
       "0              4.8    Dark Green    Excellent   314  Phillipines  \n",
       "1              4.5    Dark Green    Excellent   591  Phillipines  \n",
       "2              4.4         Green    Very Good   270  Phillipines  \n",
       "3              4.9    Dark Green    Excellent   365  Phillipines  \n",
       "4              4.8    Dark Green    Excellent   229  Phillipines  \n",
       "\n",
       "[5 rows x 22 columns]"
      ]
     },
     "execution_count": 524,
     "metadata": {},
     "output_type": "execute_result"
    }
   ],
   "source": [
    "country_code= pd.read_excel(\"Country-Code.xlsx\")\n",
    "country_code.head()\n",
    "\n",
    "zomato=pd.read_csv('zomato.csv',encoding='latin-1')\n",
    "zomato.head()\n",
    "\n",
    "data=pd.merge(zomato,country_code,how='inner')\n",
    "data.head()"
   ]
  },
  {
   "cell_type": "code",
   "execution_count": 525,
   "metadata": {},
   "outputs": [
    {
     "data": {
      "text/plain": [
       "Restaurant ID           0\n",
       "Restaurant Name         0\n",
       "Country Code            0\n",
       "City                    0\n",
       "Address                 0\n",
       "Locality                0\n",
       "Locality Verbose        0\n",
       "Longitude               0\n",
       "Latitude                0\n",
       "Cuisines                9\n",
       "Average Cost for two    0\n",
       "Currency                0\n",
       "Has Table booking       0\n",
       "Has Online delivery     0\n",
       "Is delivering now       0\n",
       "Switch to order menu    0\n",
       "Price range             0\n",
       "Aggregate rating        0\n",
       "Rating color            0\n",
       "Rating text             0\n",
       "Votes                   0\n",
       "Country                 0\n",
       "dtype: int64"
      ]
     },
     "execution_count": 525,
     "metadata": {},
     "output_type": "execute_result"
    }
   ],
   "source": [
    "data.isnull().sum() \n"
   ]
  },
  {
   "cell_type": "code",
   "execution_count": 526,
   "metadata": {},
   "outputs": [
    {
     "data": {
      "text/html": [
       "<div>\n",
       "<style scoped>\n",
       "    .dataframe tbody tr th:only-of-type {\n",
       "        vertical-align: middle;\n",
       "    }\n",
       "\n",
       "    .dataframe tbody tr th {\n",
       "        vertical-align: top;\n",
       "    }\n",
       "\n",
       "    .dataframe thead th {\n",
       "        text-align: right;\n",
       "    }\n",
       "</style>\n",
       "<table border=\"1\" class=\"dataframe\">\n",
       "  <thead>\n",
       "    <tr style=\"text-align: right;\">\n",
       "      <th></th>\n",
       "      <th>Restaurant ID</th>\n",
       "      <th>Restaurant Name</th>\n",
       "      <th>Country Code</th>\n",
       "      <th>City</th>\n",
       "      <th>Address</th>\n",
       "      <th>Locality</th>\n",
       "      <th>Locality Verbose</th>\n",
       "      <th>Longitude</th>\n",
       "      <th>Latitude</th>\n",
       "      <th>Cuisines</th>\n",
       "      <th>...</th>\n",
       "      <th>Has Table booking</th>\n",
       "      <th>Has Online delivery</th>\n",
       "      <th>Is delivering now</th>\n",
       "      <th>Switch to order menu</th>\n",
       "      <th>Price range</th>\n",
       "      <th>Aggregate rating</th>\n",
       "      <th>Rating color</th>\n",
       "      <th>Rating text</th>\n",
       "      <th>Votes</th>\n",
       "      <th>Country</th>\n",
       "    </tr>\n",
       "  </thead>\n",
       "  <tbody>\n",
       "    <tr>\n",
       "      <th>84</th>\n",
       "      <td>17284105</td>\n",
       "      <td>Cookie Shoppe</td>\n",
       "      <td>216</td>\n",
       "      <td>Albany</td>\n",
       "      <td>115 N Jackson St, Albany, GA 31701</td>\n",
       "      <td>Albany</td>\n",
       "      <td>Albany, Albany</td>\n",
       "      <td>-84.154000</td>\n",
       "      <td>31.577200</td>\n",
       "      <td>NaN</td>\n",
       "      <td>...</td>\n",
       "      <td>No</td>\n",
       "      <td>No</td>\n",
       "      <td>No</td>\n",
       "      <td>No</td>\n",
       "      <td>1</td>\n",
       "      <td>3.4</td>\n",
       "      <td>Orange</td>\n",
       "      <td>Average</td>\n",
       "      <td>34</td>\n",
       "      <td>United States</td>\n",
       "    </tr>\n",
       "    <tr>\n",
       "      <th>87</th>\n",
       "      <td>17284211</td>\n",
       "      <td>Pearly's Famous Country Cookng</td>\n",
       "      <td>216</td>\n",
       "      <td>Albany</td>\n",
       "      <td>814 N Slappey Blvd, Albany, GA 31701</td>\n",
       "      <td>Albany</td>\n",
       "      <td>Albany, Albany</td>\n",
       "      <td>-84.175900</td>\n",
       "      <td>31.588200</td>\n",
       "      <td>NaN</td>\n",
       "      <td>...</td>\n",
       "      <td>No</td>\n",
       "      <td>No</td>\n",
       "      <td>No</td>\n",
       "      <td>No</td>\n",
       "      <td>1</td>\n",
       "      <td>3.4</td>\n",
       "      <td>Orange</td>\n",
       "      <td>Average</td>\n",
       "      <td>36</td>\n",
       "      <td>United States</td>\n",
       "    </tr>\n",
       "    <tr>\n",
       "      <th>94</th>\n",
       "      <td>17284158</td>\n",
       "      <td>Jimmie's Hot Dogs</td>\n",
       "      <td>216</td>\n",
       "      <td>Albany</td>\n",
       "      <td>204 S Jackson St, Albany, GA 31701</td>\n",
       "      <td>Albany</td>\n",
       "      <td>Albany, Albany</td>\n",
       "      <td>-84.153400</td>\n",
       "      <td>31.575100</td>\n",
       "      <td>NaN</td>\n",
       "      <td>...</td>\n",
       "      <td>No</td>\n",
       "      <td>No</td>\n",
       "      <td>No</td>\n",
       "      <td>No</td>\n",
       "      <td>1</td>\n",
       "      <td>3.9</td>\n",
       "      <td>Yellow</td>\n",
       "      <td>Good</td>\n",
       "      <td>160</td>\n",
       "      <td>United States</td>\n",
       "    </tr>\n",
       "    <tr>\n",
       "      <th>288</th>\n",
       "      <td>17374552</td>\n",
       "      <td>Corkscrew Cafe</td>\n",
       "      <td>216</td>\n",
       "      <td>Gainesville</td>\n",
       "      <td>51 W Main St, Dahlonega, GA 30533</td>\n",
       "      <td>Dahlonega</td>\n",
       "      <td>Dahlonega, Gainesville</td>\n",
       "      <td>-83.985800</td>\n",
       "      <td>34.531800</td>\n",
       "      <td>NaN</td>\n",
       "      <td>...</td>\n",
       "      <td>No</td>\n",
       "      <td>No</td>\n",
       "      <td>No</td>\n",
       "      <td>No</td>\n",
       "      <td>3</td>\n",
       "      <td>3.9</td>\n",
       "      <td>Yellow</td>\n",
       "      <td>Good</td>\n",
       "      <td>209</td>\n",
       "      <td>United States</td>\n",
       "    </tr>\n",
       "    <tr>\n",
       "      <th>312</th>\n",
       "      <td>17501439</td>\n",
       "      <td>Dovetail</td>\n",
       "      <td>216</td>\n",
       "      <td>Macon</td>\n",
       "      <td>543 Cherry St, Macon, GA 31201</td>\n",
       "      <td>Macon</td>\n",
       "      <td>Macon, Macon</td>\n",
       "      <td>-83.627979</td>\n",
       "      <td>32.836410</td>\n",
       "      <td>NaN</td>\n",
       "      <td>...</td>\n",
       "      <td>No</td>\n",
       "      <td>No</td>\n",
       "      <td>No</td>\n",
       "      <td>No</td>\n",
       "      <td>3</td>\n",
       "      <td>3.8</td>\n",
       "      <td>Yellow</td>\n",
       "      <td>Good</td>\n",
       "      <td>102</td>\n",
       "      <td>United States</td>\n",
       "    </tr>\n",
       "    <tr>\n",
       "      <th>328</th>\n",
       "      <td>17606621</td>\n",
       "      <td>HI Lite Bar &amp; Lounge</td>\n",
       "      <td>216</td>\n",
       "      <td>Miller</td>\n",
       "      <td>109 N Broadway Ave, Miller, SD 57362</td>\n",
       "      <td>Miller</td>\n",
       "      <td>Miller, Miller</td>\n",
       "      <td>-98.989100</td>\n",
       "      <td>44.515800</td>\n",
       "      <td>NaN</td>\n",
       "      <td>...</td>\n",
       "      <td>No</td>\n",
       "      <td>No</td>\n",
       "      <td>No</td>\n",
       "      <td>No</td>\n",
       "      <td>1</td>\n",
       "      <td>3.4</td>\n",
       "      <td>Orange</td>\n",
       "      <td>Average</td>\n",
       "      <td>11</td>\n",
       "      <td>United States</td>\n",
       "    </tr>\n",
       "    <tr>\n",
       "      <th>349</th>\n",
       "      <td>17059060</td>\n",
       "      <td>Hillstone</td>\n",
       "      <td>216</td>\n",
       "      <td>Orlando</td>\n",
       "      <td>215 South Orlando Avenue, Winter Park, FL 32789</td>\n",
       "      <td>Winter Park</td>\n",
       "      <td>Winter Park, Orlando</td>\n",
       "      <td>-81.365260</td>\n",
       "      <td>28.596682</td>\n",
       "      <td>NaN</td>\n",
       "      <td>...</td>\n",
       "      <td>No</td>\n",
       "      <td>No</td>\n",
       "      <td>No</td>\n",
       "      <td>No</td>\n",
       "      <td>3</td>\n",
       "      <td>4.4</td>\n",
       "      <td>Green</td>\n",
       "      <td>Very Good</td>\n",
       "      <td>1158</td>\n",
       "      <td>United States</td>\n",
       "    </tr>\n",
       "    <tr>\n",
       "      <th>395</th>\n",
       "      <td>17142698</td>\n",
       "      <td>Leonard's Bakery</td>\n",
       "      <td>216</td>\n",
       "      <td>Rest of Hawaii</td>\n",
       "      <td>933 Kapahulu Ave, Honolulu, HI 96816</td>\n",
       "      <td>Kaimuki</td>\n",
       "      <td>Kaimuki, Rest of Hawaii</td>\n",
       "      <td>-157.813432</td>\n",
       "      <td>21.284586</td>\n",
       "      <td>NaN</td>\n",
       "      <td>...</td>\n",
       "      <td>No</td>\n",
       "      <td>No</td>\n",
       "      <td>No</td>\n",
       "      <td>No</td>\n",
       "      <td>1</td>\n",
       "      <td>4.7</td>\n",
       "      <td>Dark Green</td>\n",
       "      <td>Excellent</td>\n",
       "      <td>707</td>\n",
       "      <td>United States</td>\n",
       "    </tr>\n",
       "    <tr>\n",
       "      <th>432</th>\n",
       "      <td>17616465</td>\n",
       "      <td>Tybee Island Social Club</td>\n",
       "      <td>216</td>\n",
       "      <td>Savannah</td>\n",
       "      <td>1311 Butler Ave, Tybee Island, GA 31328</td>\n",
       "      <td>Tybee Island</td>\n",
       "      <td>Tybee Island, Savannah</td>\n",
       "      <td>-80.848297</td>\n",
       "      <td>31.995810</td>\n",
       "      <td>NaN</td>\n",
       "      <td>...</td>\n",
       "      <td>No</td>\n",
       "      <td>No</td>\n",
       "      <td>No</td>\n",
       "      <td>No</td>\n",
       "      <td>1</td>\n",
       "      <td>3.9</td>\n",
       "      <td>Yellow</td>\n",
       "      <td>Good</td>\n",
       "      <td>309</td>\n",
       "      <td>United States</td>\n",
       "    </tr>\n",
       "  </tbody>\n",
       "</table>\n",
       "<p>9 rows × 22 columns</p>\n",
       "</div>"
      ],
      "text/plain": [
       "     Restaurant ID                 Restaurant Name  Country Code  \\\n",
       "84        17284105                   Cookie Shoppe           216   \n",
       "87        17284211  Pearly's Famous Country Cookng           216   \n",
       "94        17284158               Jimmie's Hot Dogs           216   \n",
       "288       17374552                  Corkscrew Cafe           216   \n",
       "312       17501439                        Dovetail           216   \n",
       "328       17606621            HI Lite Bar & Lounge           216   \n",
       "349       17059060                       Hillstone           216   \n",
       "395       17142698                Leonard's Bakery           216   \n",
       "432       17616465        Tybee Island Social Club           216   \n",
       "\n",
       "               City                                          Address  \\\n",
       "84           Albany               115 N Jackson St, Albany, GA 31701   \n",
       "87           Albany             814 N Slappey Blvd, Albany, GA 31701   \n",
       "94           Albany               204 S Jackson St, Albany, GA 31701   \n",
       "288     Gainesville                51 W Main St, Dahlonega, GA 30533   \n",
       "312           Macon                   543 Cherry St, Macon, GA 31201   \n",
       "328          Miller             109 N Broadway Ave, Miller, SD 57362   \n",
       "349         Orlando  215 South Orlando Avenue, Winter Park, FL 32789   \n",
       "395  Rest of Hawaii             933 Kapahulu Ave, Honolulu, HI 96816   \n",
       "432        Savannah          1311 Butler Ave, Tybee Island, GA 31328   \n",
       "\n",
       "         Locality         Locality Verbose   Longitude   Latitude Cuisines  \\\n",
       "84         Albany           Albany, Albany  -84.154000  31.577200      NaN   \n",
       "87         Albany           Albany, Albany  -84.175900  31.588200      NaN   \n",
       "94         Albany           Albany, Albany  -84.153400  31.575100      NaN   \n",
       "288     Dahlonega   Dahlonega, Gainesville  -83.985800  34.531800      NaN   \n",
       "312         Macon             Macon, Macon  -83.627979  32.836410      NaN   \n",
       "328        Miller           Miller, Miller  -98.989100  44.515800      NaN   \n",
       "349   Winter Park     Winter Park, Orlando  -81.365260  28.596682      NaN   \n",
       "395       Kaimuki  Kaimuki, Rest of Hawaii -157.813432  21.284586      NaN   \n",
       "432  Tybee Island   Tybee Island, Savannah  -80.848297  31.995810      NaN   \n",
       "\n",
       "         ...        Has Table booking Has Online delivery Is delivering now  \\\n",
       "84       ...                       No                  No                No   \n",
       "87       ...                       No                  No                No   \n",
       "94       ...                       No                  No                No   \n",
       "288      ...                       No                  No                No   \n",
       "312      ...                       No                  No                No   \n",
       "328      ...                       No                  No                No   \n",
       "349      ...                       No                  No                No   \n",
       "395      ...                       No                  No                No   \n",
       "432      ...                       No                  No                No   \n",
       "\n",
       "    Switch to order menu Price range Aggregate rating  Rating color  \\\n",
       "84                    No           1              3.4        Orange   \n",
       "87                    No           1              3.4        Orange   \n",
       "94                    No           1              3.9        Yellow   \n",
       "288                   No           3              3.9        Yellow   \n",
       "312                   No           3              3.8        Yellow   \n",
       "328                   No           1              3.4        Orange   \n",
       "349                   No           3              4.4         Green   \n",
       "395                   No           1              4.7    Dark Green   \n",
       "432                   No           1              3.9        Yellow   \n",
       "\n",
       "     Rating text Votes        Country  \n",
       "84       Average    34  United States  \n",
       "87       Average    36  United States  \n",
       "94          Good   160  United States  \n",
       "288         Good   209  United States  \n",
       "312         Good   102  United States  \n",
       "328      Average    11  United States  \n",
       "349    Very Good  1158  United States  \n",
       "395    Excellent   707  United States  \n",
       "432         Good   309  United States  \n",
       "\n",
       "[9 rows x 22 columns]"
      ]
     },
     "execution_count": 526,
     "metadata": {},
     "output_type": "execute_result"
    }
   ],
   "source": [
    "data[data.Cuisines.isnull()==True]\n"
   ]
  },
  {
   "cell_type": "code",
   "execution_count": 527,
   "metadata": {},
   "outputs": [],
   "source": [
    "import folium\n",
    "train_data = data.loc[data['Country Code'] ==1,['Latitude', 'Longitude']]"
   ]
  },
  {
   "cell_type": "code",
   "execution_count": 528,
   "metadata": {},
   "outputs": [],
   "source": [
    " train_data=train_data.round(2)\n"
   ]
  },
  {
   "cell_type": "code",
   "execution_count": 529,
   "metadata": {},
   "outputs": [],
   "source": [
    "ab=train_data.drop_duplicates(subset=['Latitude'],keep=False,inplace=True)\n"
   ]
  },
  {
   "cell_type": "code",
   "execution_count": 531,
   "metadata": {},
   "outputs": [
    {
     "data": {
      "text/html": [
       "<div style=\"width:100%;\"><div style=\"position:relative;width:100%;height:0;padding-bottom:60%;\"><iframe src=\"data:text/html;charset=utf-8;base64,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\" style=\"position:absolute;width:100%;height:100%;left:0;top:0;border:none !important;\" allowfullscreen webkitallowfullscreen mozallowfullscreen></iframe></div></div>"
      ],
      "text/plain": [
       "<folium.folium.Map at 0x1bfb78a0978>"
      ]
     },
     "execution_count": 531,
     "metadata": {},
     "output_type": "execute_result"
    }
   ],
   "source": [
    "map_F = folium.Map(location = [train_data['Latitude'].mean(),train_data['Longitude'].mean()], zoom_start = 5,      tiles = \"Stamen Terrain\",)\n",
    "for i, (lat, lon) in enumerate(train_data.values): folium.Marker([lat, lon]).add_to(map_F)\n",
    "from folium.plugins import FloatImage\n",
    "map_F"
   ]
  },
  {
   "cell_type": "code",
   "execution_count": 443,
   "metadata": {},
   "outputs": [],
   "source": [
    "import plotly.graph_objs as go\n",
    "from plotly.offline import iplot\n",
    "\n"
   ]
  },
  {
   "cell_type": "code",
   "execution_count": 444,
   "metadata": {},
   "outputs": [
    {
     "data": {
      "application/vnd.plotly.v1+json": {
       "config": {
        "linkText": "Export to plot.ly",
        "plotlyServerURL": "https://plot.ly",
        "showLink": false
       },
       "data": [
        {
         "locationmode": "country names",
         "locations": [
          "India",
          "United States",
          "United Kingdom",
          "South Africa",
          "UAE",
          "Brazil",
          "New Zealand",
          "Turkey",
          "Australia",
          "Phillipines",
          "Indonesia",
          "Singapore",
          "Qatar",
          "Sri Lanka",
          "Canada"
         ],
         "text": [
          "India",
          "United States",
          "United Kingdom",
          "South Africa",
          "UAE",
          "Brazil",
          "New Zealand",
          "Turkey",
          "Australia",
          "Phillipines",
          "Indonesia",
          "Singapore",
          "Qatar",
          "Sri Lanka",
          "Canada"
         ],
         "type": "choropleth",
         "z": [
          8652,
          434,
          80,
          60,
          60,
          60,
          40,
          34,
          24,
          22,
          21,
          20,
          20,
          20,
          4
         ]
        }
       ],
       "layout": {
        "template": {
         "data": {
          "bar": [
           {
            "error_x": {
             "color": "#2a3f5f"
            },
            "error_y": {
             "color": "#2a3f5f"
            },
            "marker": {
             "line": {
              "color": "#E5ECF6",
              "width": 0.5
             }
            },
            "type": "bar"
           }
          ],
          "barpolar": [
           {
            "marker": {
             "line": {
              "color": "#E5ECF6",
              "width": 0.5
             }
            },
            "type": "barpolar"
           }
          ],
          "carpet": [
           {
            "aaxis": {
             "endlinecolor": "#2a3f5f",
             "gridcolor": "white",
             "linecolor": "white",
             "minorgridcolor": "white",
             "startlinecolor": "#2a3f5f"
            },
            "baxis": {
             "endlinecolor": "#2a3f5f",
             "gridcolor": "white",
             "linecolor": "white",
             "minorgridcolor": "white",
             "startlinecolor": "#2a3f5f"
            },
            "type": "carpet"
           }
          ],
          "choropleth": [
           {
            "colorbar": {
             "outlinewidth": 0,
             "ticks": ""
            },
            "type": "choropleth"
           }
          ],
          "contour": [
           {
            "colorbar": {
             "outlinewidth": 0,
             "ticks": ""
            },
            "colorscale": [
             [
              0,
              "#0d0887"
             ],
             [
              0.1111111111111111,
              "#46039f"
             ],
             [
              0.2222222222222222,
              "#7201a8"
             ],
             [
              0.3333333333333333,
              "#9c179e"
             ],
             [
              0.4444444444444444,
              "#bd3786"
             ],
             [
              0.5555555555555556,
              "#d8576b"
             ],
             [
              0.6666666666666666,
              "#ed7953"
             ],
             [
              0.7777777777777778,
              "#fb9f3a"
             ],
             [
              0.8888888888888888,
              "#fdca26"
             ],
             [
              1,
              "#f0f921"
             ]
            ],
            "type": "contour"
           }
          ],
          "contourcarpet": [
           {
            "colorbar": {
             "outlinewidth": 0,
             "ticks": ""
            },
            "type": "contourcarpet"
           }
          ],
          "heatmap": [
           {
            "colorbar": {
             "outlinewidth": 0,
             "ticks": ""
            },
            "colorscale": [
             [
              0,
              "#0d0887"
             ],
             [
              0.1111111111111111,
              "#46039f"
             ],
             [
              0.2222222222222222,
              "#7201a8"
             ],
             [
              0.3333333333333333,
              "#9c179e"
             ],
             [
              0.4444444444444444,
              "#bd3786"
             ],
             [
              0.5555555555555556,
              "#d8576b"
             ],
             [
              0.6666666666666666,
              "#ed7953"
             ],
             [
              0.7777777777777778,
              "#fb9f3a"
             ],
             [
              0.8888888888888888,
              "#fdca26"
             ],
             [
              1,
              "#f0f921"
             ]
            ],
            "type": "heatmap"
           }
          ],
          "heatmapgl": [
           {
            "colorbar": {
             "outlinewidth": 0,
             "ticks": ""
            },
            "colorscale": [
             [
              0,
              "#0d0887"
             ],
             [
              0.1111111111111111,
              "#46039f"
             ],
             [
              0.2222222222222222,
              "#7201a8"
             ],
             [
              0.3333333333333333,
              "#9c179e"
             ],
             [
              0.4444444444444444,
              "#bd3786"
             ],
             [
              0.5555555555555556,
              "#d8576b"
             ],
             [
              0.6666666666666666,
              "#ed7953"
             ],
             [
              0.7777777777777778,
              "#fb9f3a"
             ],
             [
              0.8888888888888888,
              "#fdca26"
             ],
             [
              1,
              "#f0f921"
             ]
            ],
            "type": "heatmapgl"
           }
          ],
          "histogram": [
           {
            "marker": {
             "colorbar": {
              "outlinewidth": 0,
              "ticks": ""
             }
            },
            "type": "histogram"
           }
          ],
          "histogram2d": [
           {
            "colorbar": {
             "outlinewidth": 0,
             "ticks": ""
            },
            "colorscale": [
             [
              0,
              "#0d0887"
             ],
             [
              0.1111111111111111,
              "#46039f"
             ],
             [
              0.2222222222222222,
              "#7201a8"
             ],
             [
              0.3333333333333333,
              "#9c179e"
             ],
             [
              0.4444444444444444,
              "#bd3786"
             ],
             [
              0.5555555555555556,
              "#d8576b"
             ],
             [
              0.6666666666666666,
              "#ed7953"
             ],
             [
              0.7777777777777778,
              "#fb9f3a"
             ],
             [
              0.8888888888888888,
              "#fdca26"
             ],
             [
              1,
              "#f0f921"
             ]
            ],
            "type": "histogram2d"
           }
          ],
          "histogram2dcontour": [
           {
            "colorbar": {
             "outlinewidth": 0,
             "ticks": ""
            },
            "colorscale": [
             [
              0,
              "#0d0887"
             ],
             [
              0.1111111111111111,
              "#46039f"
             ],
             [
              0.2222222222222222,
              "#7201a8"
             ],
             [
              0.3333333333333333,
              "#9c179e"
             ],
             [
              0.4444444444444444,
              "#bd3786"
             ],
             [
              0.5555555555555556,
              "#d8576b"
             ],
             [
              0.6666666666666666,
              "#ed7953"
             ],
             [
              0.7777777777777778,
              "#fb9f3a"
             ],
             [
              0.8888888888888888,
              "#fdca26"
             ],
             [
              1,
              "#f0f921"
             ]
            ],
            "type": "histogram2dcontour"
           }
          ],
          "mesh3d": [
           {
            "colorbar": {
             "outlinewidth": 0,
             "ticks": ""
            },
            "type": "mesh3d"
           }
          ],
          "parcoords": [
           {
            "line": {
             "colorbar": {
              "outlinewidth": 0,
              "ticks": ""
             }
            },
            "type": "parcoords"
           }
          ],
          "pie": [
           {
            "automargin": true,
            "type": "pie"
           }
          ],
          "scatter": [
           {
            "marker": {
             "colorbar": {
              "outlinewidth": 0,
              "ticks": ""
             }
            },
            "type": "scatter"
           }
          ],
          "scatter3d": [
           {
            "line": {
             "colorbar": {
              "outlinewidth": 0,
              "ticks": ""
             }
            },
            "marker": {
             "colorbar": {
              "outlinewidth": 0,
              "ticks": ""
             }
            },
            "type": "scatter3d"
           }
          ],
          "scattercarpet": [
           {
            "marker": {
             "colorbar": {
              "outlinewidth": 0,
              "ticks": ""
             }
            },
            "type": "scattercarpet"
           }
          ],
          "scattergeo": [
           {
            "marker": {
             "colorbar": {
              "outlinewidth": 0,
              "ticks": ""
             }
            },
            "type": "scattergeo"
           }
          ],
          "scattergl": [
           {
            "marker": {
             "colorbar": {
              "outlinewidth": 0,
              "ticks": ""
             }
            },
            "type": "scattergl"
           }
          ],
          "scattermapbox": [
           {
            "marker": {
             "colorbar": {
              "outlinewidth": 0,
              "ticks": ""
             }
            },
            "type": "scattermapbox"
           }
          ],
          "scatterpolar": [
           {
            "marker": {
             "colorbar": {
              "outlinewidth": 0,
              "ticks": ""
             }
            },
            "type": "scatterpolar"
           }
          ],
          "scatterpolargl": [
           {
            "marker": {
             "colorbar": {
              "outlinewidth": 0,
              "ticks": ""
             }
            },
            "type": "scatterpolargl"
           }
          ],
          "scatterternary": [
           {
            "marker": {
             "colorbar": {
              "outlinewidth": 0,
              "ticks": ""
             }
            },
            "type": "scatterternary"
           }
          ],
          "surface": [
           {
            "colorbar": {
             "outlinewidth": 0,
             "ticks": ""
            },
            "colorscale": [
             [
              0,
              "#0d0887"
             ],
             [
              0.1111111111111111,
              "#46039f"
             ],
             [
              0.2222222222222222,
              "#7201a8"
             ],
             [
              0.3333333333333333,
              "#9c179e"
             ],
             [
              0.4444444444444444,
              "#bd3786"
             ],
             [
              0.5555555555555556,
              "#d8576b"
             ],
             [
              0.6666666666666666,
              "#ed7953"
             ],
             [
              0.7777777777777778,
              "#fb9f3a"
             ],
             [
              0.8888888888888888,
              "#fdca26"
             ],
             [
              1,
              "#f0f921"
             ]
            ],
            "type": "surface"
           }
          ],
          "table": [
           {
            "cells": {
             "fill": {
              "color": "#EBF0F8"
             },
             "line": {
              "color": "white"
             }
            },
            "header": {
             "fill": {
              "color": "#C8D4E3"
             },
             "line": {
              "color": "white"
             }
            },
            "type": "table"
           }
          ]
         },
         "layout": {
          "annotationdefaults": {
           "arrowcolor": "#2a3f5f",
           "arrowhead": 0,
           "arrowwidth": 1
          },
          "coloraxis": {
           "colorbar": {
            "outlinewidth": 0,
            "ticks": ""
           }
          },
          "colorscale": {
           "diverging": [
            [
             0,
             "#8e0152"
            ],
            [
             0.1,
             "#c51b7d"
            ],
            [
             0.2,
             "#de77ae"
            ],
            [
             0.3,
             "#f1b6da"
            ],
            [
             0.4,
             "#fde0ef"
            ],
            [
             0.5,
             "#f7f7f7"
            ],
            [
             0.6,
             "#e6f5d0"
            ],
            [
             0.7,
             "#b8e186"
            ],
            [
             0.8,
             "#7fbc41"
            ],
            [
             0.9,
             "#4d9221"
            ],
            [
             1,
             "#276419"
            ]
           ],
           "sequential": [
            [
             0,
             "#0d0887"
            ],
            [
             0.1111111111111111,
             "#46039f"
            ],
            [
             0.2222222222222222,
             "#7201a8"
            ],
            [
             0.3333333333333333,
             "#9c179e"
            ],
            [
             0.4444444444444444,
             "#bd3786"
            ],
            [
             0.5555555555555556,
             "#d8576b"
            ],
            [
             0.6666666666666666,
             "#ed7953"
            ],
            [
             0.7777777777777778,
             "#fb9f3a"
            ],
            [
             0.8888888888888888,
             "#fdca26"
            ],
            [
             1,
             "#f0f921"
            ]
           ],
           "sequentialminus": [
            [
             0,
             "#0d0887"
            ],
            [
             0.1111111111111111,
             "#46039f"
            ],
            [
             0.2222222222222222,
             "#7201a8"
            ],
            [
             0.3333333333333333,
             "#9c179e"
            ],
            [
             0.4444444444444444,
             "#bd3786"
            ],
            [
             0.5555555555555556,
             "#d8576b"
            ],
            [
             0.6666666666666666,
             "#ed7953"
            ],
            [
             0.7777777777777778,
             "#fb9f3a"
            ],
            [
             0.8888888888888888,
             "#fdca26"
            ],
            [
             1,
             "#f0f921"
            ]
           ]
          },
          "colorway": [
           "#636efa",
           "#EF553B",
           "#00cc96",
           "#ab63fa",
           "#FFA15A",
           "#19d3f3",
           "#FF6692",
           "#B6E880",
           "#FF97FF",
           "#FECB52"
          ],
          "font": {
           "color": "#2a3f5f"
          },
          "geo": {
           "bgcolor": "white",
           "lakecolor": "white",
           "landcolor": "#E5ECF6",
           "showlakes": true,
           "showland": true,
           "subunitcolor": "white"
          },
          "hoverlabel": {
           "align": "left"
          },
          "hovermode": "closest",
          "mapbox": {
           "style": "light"
          },
          "paper_bgcolor": "white",
          "plot_bgcolor": "#E5ECF6",
          "polar": {
           "angularaxis": {
            "gridcolor": "white",
            "linecolor": "white",
            "ticks": ""
           },
           "bgcolor": "#E5ECF6",
           "radialaxis": {
            "gridcolor": "white",
            "linecolor": "white",
            "ticks": ""
           }
          },
          "scene": {
           "xaxis": {
            "backgroundcolor": "#E5ECF6",
            "gridcolor": "white",
            "gridwidth": 2,
            "linecolor": "white",
            "showbackground": true,
            "ticks": "",
            "zerolinecolor": "white"
           },
           "yaxis": {
            "backgroundcolor": "#E5ECF6",
            "gridcolor": "white",
            "gridwidth": 2,
            "linecolor": "white",
            "showbackground": true,
            "ticks": "",
            "zerolinecolor": "white"
           },
           "zaxis": {
            "backgroundcolor": "#E5ECF6",
            "gridcolor": "white",
            "gridwidth": 2,
            "linecolor": "white",
            "showbackground": true,
            "ticks": "",
            "zerolinecolor": "white"
           }
          },
          "shapedefaults": {
           "line": {
            "color": "#2a3f5f"
           }
          },
          "ternary": {
           "aaxis": {
            "gridcolor": "white",
            "linecolor": "white",
            "ticks": ""
           },
           "baxis": {
            "gridcolor": "white",
            "linecolor": "white",
            "ticks": ""
           },
           "bgcolor": "#E5ECF6",
           "caxis": {
            "gridcolor": "white",
            "linecolor": "white",
            "ticks": ""
           }
          },
          "title": {
           "x": 0.05
          },
          "xaxis": {
           "automargin": true,
           "gridcolor": "white",
           "linecolor": "white",
           "ticks": "",
           "title": {
            "standoff": 15
           },
           "zerolinecolor": "white",
           "zerolinewidth": 2
          },
          "yaxis": {
           "automargin": true,
           "gridcolor": "white",
           "linecolor": "white",
           "ticks": "",
           "title": {
            "standoff": 15
           },
           "zerolinecolor": "white",
           "zerolinewidth": 2
          }
         }
        },
        "title": {
         "text": "Number of Resturants Registered on Zomato by Country"
        }
       }
      },
      "text/html": [
       "<div>\n",
       "        \n",
       "        \n",
       "            <div id=\"bdc13c4d-9d0a-447a-ba71-33b5b0762435\" class=\"plotly-graph-div\" style=\"height:525px; width:100%;\"></div>\n",
       "            <script type=\"text/javascript\">\n",
       "                require([\"plotly\"], function(Plotly) {\n",
       "                    window.PLOTLYENV=window.PLOTLYENV || {};\n",
       "                    \n",
       "                if (document.getElementById(\"bdc13c4d-9d0a-447a-ba71-33b5b0762435\")) {\n",
       "                    Plotly.newPlot(\n",
       "                        'bdc13c4d-9d0a-447a-ba71-33b5b0762435',\n",
       "                        [{\"locationmode\": \"country names\", \"locations\": [\"India\", \"United States\", \"United Kingdom\", \"South Africa\", \"UAE\", \"Brazil\", \"New Zealand\", \"Turkey\", \"Australia\", \"Phillipines\", \"Indonesia\", \"Singapore\", \"Qatar\", \"Sri Lanka\", \"Canada\"], \"text\": [\"India\", \"United States\", \"United Kingdom\", \"South Africa\", \"UAE\", \"Brazil\", \"New Zealand\", \"Turkey\", \"Australia\", \"Phillipines\", \"Indonesia\", \"Singapore\", \"Qatar\", \"Sri Lanka\", \"Canada\"], \"type\": \"choropleth\", \"z\": [8652, 434, 80, 60, 60, 60, 40, 34, 24, 22, 21, 20, 20, 20, 4]}],\n",
       "                        {\"template\": {\"data\": {\"bar\": [{\"error_x\": {\"color\": \"#2a3f5f\"}, \"error_y\": {\"color\": \"#2a3f5f\"}, \"marker\": {\"line\": {\"color\": \"#E5ECF6\", \"width\": 0.5}}, \"type\": \"bar\"}], \"barpolar\": [{\"marker\": {\"line\": {\"color\": \"#E5ECF6\", \"width\": 0.5}}, \"type\": \"barpolar\"}], \"carpet\": [{\"aaxis\": {\"endlinecolor\": \"#2a3f5f\", \"gridcolor\": \"white\", \"linecolor\": \"white\", \"minorgridcolor\": \"white\", \"startlinecolor\": \"#2a3f5f\"}, \"baxis\": {\"endlinecolor\": \"#2a3f5f\", \"gridcolor\": \"white\", \"linecolor\": \"white\", \"minorgridcolor\": \"white\", \"startlinecolor\": \"#2a3f5f\"}, \"type\": \"carpet\"}], \"choropleth\": [{\"colorbar\": {\"outlinewidth\": 0, \"ticks\": \"\"}, \"type\": \"choropleth\"}], \"contour\": [{\"colorbar\": {\"outlinewidth\": 0, \"ticks\": \"\"}, \"colorscale\": [[0.0, \"#0d0887\"], [0.1111111111111111, \"#46039f\"], [0.2222222222222222, \"#7201a8\"], [0.3333333333333333, \"#9c179e\"], [0.4444444444444444, \"#bd3786\"], [0.5555555555555556, \"#d8576b\"], [0.6666666666666666, \"#ed7953\"], [0.7777777777777778, \"#fb9f3a\"], [0.8888888888888888, \"#fdca26\"], [1.0, \"#f0f921\"]], \"type\": \"contour\"}], \"contourcarpet\": [{\"colorbar\": {\"outlinewidth\": 0, \"ticks\": \"\"}, \"type\": \"contourcarpet\"}], \"heatmap\": [{\"colorbar\": {\"outlinewidth\": 0, \"ticks\": \"\"}, \"colorscale\": [[0.0, \"#0d0887\"], [0.1111111111111111, \"#46039f\"], [0.2222222222222222, \"#7201a8\"], [0.3333333333333333, \"#9c179e\"], [0.4444444444444444, \"#bd3786\"], [0.5555555555555556, \"#d8576b\"], [0.6666666666666666, \"#ed7953\"], [0.7777777777777778, \"#fb9f3a\"], [0.8888888888888888, \"#fdca26\"], [1.0, \"#f0f921\"]], \"type\": \"heatmap\"}], \"heatmapgl\": [{\"colorbar\": {\"outlinewidth\": 0, \"ticks\": \"\"}, \"colorscale\": [[0.0, \"#0d0887\"], [0.1111111111111111, \"#46039f\"], [0.2222222222222222, \"#7201a8\"], [0.3333333333333333, \"#9c179e\"], [0.4444444444444444, \"#bd3786\"], [0.5555555555555556, \"#d8576b\"], [0.6666666666666666, \"#ed7953\"], [0.7777777777777778, \"#fb9f3a\"], [0.8888888888888888, \"#fdca26\"], [1.0, \"#f0f921\"]], \"type\": \"heatmapgl\"}], \"histogram\": [{\"marker\": {\"colorbar\": {\"outlinewidth\": 0, \"ticks\": \"\"}}, \"type\": \"histogram\"}], \"histogram2d\": [{\"colorbar\": {\"outlinewidth\": 0, \"ticks\": \"\"}, \"colorscale\": [[0.0, \"#0d0887\"], [0.1111111111111111, \"#46039f\"], [0.2222222222222222, \"#7201a8\"], [0.3333333333333333, \"#9c179e\"], [0.4444444444444444, \"#bd3786\"], [0.5555555555555556, \"#d8576b\"], [0.6666666666666666, \"#ed7953\"], [0.7777777777777778, \"#fb9f3a\"], [0.8888888888888888, \"#fdca26\"], [1.0, \"#f0f921\"]], \"type\": \"histogram2d\"}], \"histogram2dcontour\": [{\"colorbar\": {\"outlinewidth\": 0, \"ticks\": \"\"}, \"colorscale\": [[0.0, \"#0d0887\"], [0.1111111111111111, \"#46039f\"], [0.2222222222222222, \"#7201a8\"], [0.3333333333333333, \"#9c179e\"], [0.4444444444444444, \"#bd3786\"], [0.5555555555555556, \"#d8576b\"], [0.6666666666666666, \"#ed7953\"], [0.7777777777777778, \"#fb9f3a\"], [0.8888888888888888, \"#fdca26\"], [1.0, \"#f0f921\"]], \"type\": \"histogram2dcontour\"}], \"mesh3d\": [{\"colorbar\": {\"outlinewidth\": 0, \"ticks\": \"\"}, \"type\": \"mesh3d\"}], \"parcoords\": [{\"line\": {\"colorbar\": {\"outlinewidth\": 0, \"ticks\": \"\"}}, \"type\": \"parcoords\"}], \"pie\": [{\"automargin\": true, \"type\": \"pie\"}], \"scatter\": [{\"marker\": {\"colorbar\": {\"outlinewidth\": 0, \"ticks\": \"\"}}, \"type\": \"scatter\"}], \"scatter3d\": [{\"line\": {\"colorbar\": {\"outlinewidth\": 0, \"ticks\": \"\"}}, \"marker\": {\"colorbar\": {\"outlinewidth\": 0, \"ticks\": \"\"}}, \"type\": \"scatter3d\"}], \"scattercarpet\": [{\"marker\": {\"colorbar\": {\"outlinewidth\": 0, \"ticks\": \"\"}}, \"type\": \"scattercarpet\"}], \"scattergeo\": [{\"marker\": {\"colorbar\": {\"outlinewidth\": 0, \"ticks\": \"\"}}, \"type\": \"scattergeo\"}], \"scattergl\": [{\"marker\": {\"colorbar\": {\"outlinewidth\": 0, \"ticks\": \"\"}}, \"type\": \"scattergl\"}], \"scattermapbox\": [{\"marker\": {\"colorbar\": {\"outlinewidth\": 0, \"ticks\": \"\"}}, \"type\": \"scattermapbox\"}], \"scatterpolar\": [{\"marker\": {\"colorbar\": {\"outlinewidth\": 0, \"ticks\": \"\"}}, \"type\": \"scatterpolar\"}], \"scatterpolargl\": [{\"marker\": {\"colorbar\": {\"outlinewidth\": 0, \"ticks\": \"\"}}, \"type\": \"scatterpolargl\"}], \"scatterternary\": [{\"marker\": {\"colorbar\": {\"outlinewidth\": 0, \"ticks\": \"\"}}, \"type\": \"scatterternary\"}], \"surface\": [{\"colorbar\": {\"outlinewidth\": 0, \"ticks\": \"\"}, \"colorscale\": [[0.0, \"#0d0887\"], [0.1111111111111111, \"#46039f\"], [0.2222222222222222, \"#7201a8\"], [0.3333333333333333, \"#9c179e\"], [0.4444444444444444, \"#bd3786\"], [0.5555555555555556, \"#d8576b\"], [0.6666666666666666, \"#ed7953\"], [0.7777777777777778, \"#fb9f3a\"], [0.8888888888888888, \"#fdca26\"], [1.0, \"#f0f921\"]], \"type\": \"surface\"}], \"table\": [{\"cells\": {\"fill\": {\"color\": \"#EBF0F8\"}, \"line\": {\"color\": \"white\"}}, \"header\": {\"fill\": {\"color\": \"#C8D4E3\"}, \"line\": {\"color\": \"white\"}}, \"type\": \"table\"}]}, \"layout\": {\"annotationdefaults\": {\"arrowcolor\": \"#2a3f5f\", \"arrowhead\": 0, \"arrowwidth\": 1}, \"coloraxis\": {\"colorbar\": {\"outlinewidth\": 0, \"ticks\": \"\"}}, \"colorscale\": {\"diverging\": [[0, \"#8e0152\"], [0.1, \"#c51b7d\"], [0.2, \"#de77ae\"], [0.3, \"#f1b6da\"], [0.4, \"#fde0ef\"], [0.5, \"#f7f7f7\"], [0.6, \"#e6f5d0\"], [0.7, \"#b8e186\"], [0.8, \"#7fbc41\"], [0.9, \"#4d9221\"], [1, \"#276419\"]], \"sequential\": [[0.0, \"#0d0887\"], [0.1111111111111111, \"#46039f\"], [0.2222222222222222, \"#7201a8\"], [0.3333333333333333, \"#9c179e\"], [0.4444444444444444, \"#bd3786\"], [0.5555555555555556, \"#d8576b\"], [0.6666666666666666, \"#ed7953\"], [0.7777777777777778, \"#fb9f3a\"], [0.8888888888888888, \"#fdca26\"], [1.0, \"#f0f921\"]], \"sequentialminus\": [[0.0, \"#0d0887\"], [0.1111111111111111, \"#46039f\"], [0.2222222222222222, \"#7201a8\"], [0.3333333333333333, \"#9c179e\"], [0.4444444444444444, \"#bd3786\"], [0.5555555555555556, \"#d8576b\"], [0.6666666666666666, \"#ed7953\"], [0.7777777777777778, \"#fb9f3a\"], [0.8888888888888888, \"#fdca26\"], [1.0, \"#f0f921\"]]}, \"colorway\": [\"#636efa\", \"#EF553B\", \"#00cc96\", \"#ab63fa\", \"#FFA15A\", \"#19d3f3\", \"#FF6692\", \"#B6E880\", \"#FF97FF\", \"#FECB52\"], \"font\": {\"color\": \"#2a3f5f\"}, \"geo\": {\"bgcolor\": \"white\", \"lakecolor\": \"white\", \"landcolor\": \"#E5ECF6\", \"showlakes\": true, \"showland\": true, \"subunitcolor\": \"white\"}, \"hoverlabel\": {\"align\": \"left\"}, \"hovermode\": \"closest\", \"mapbox\": {\"style\": \"light\"}, \"paper_bgcolor\": \"white\", \"plot_bgcolor\": \"#E5ECF6\", \"polar\": {\"angularaxis\": {\"gridcolor\": \"white\", \"linecolor\": \"white\", \"ticks\": \"\"}, \"bgcolor\": \"#E5ECF6\", \"radialaxis\": {\"gridcolor\": \"white\", \"linecolor\": \"white\", \"ticks\": \"\"}}, \"scene\": {\"xaxis\": {\"backgroundcolor\": \"#E5ECF6\", \"gridcolor\": \"white\", \"gridwidth\": 2, \"linecolor\": \"white\", \"showbackground\": true, \"ticks\": \"\", \"zerolinecolor\": \"white\"}, \"yaxis\": {\"backgroundcolor\": \"#E5ECF6\", \"gridcolor\": \"white\", \"gridwidth\": 2, \"linecolor\": \"white\", \"showbackground\": true, \"ticks\": \"\", \"zerolinecolor\": \"white\"}, \"zaxis\": {\"backgroundcolor\": \"#E5ECF6\", \"gridcolor\": \"white\", \"gridwidth\": 2, \"linecolor\": \"white\", \"showbackground\": true, \"ticks\": \"\", \"zerolinecolor\": \"white\"}}, \"shapedefaults\": {\"line\": {\"color\": \"#2a3f5f\"}}, \"ternary\": {\"aaxis\": {\"gridcolor\": \"white\", \"linecolor\": \"white\", \"ticks\": \"\"}, \"baxis\": {\"gridcolor\": \"white\", \"linecolor\": \"white\", \"ticks\": \"\"}, \"bgcolor\": \"#E5ECF6\", \"caxis\": {\"gridcolor\": \"white\", \"linecolor\": \"white\", \"ticks\": \"\"}}, \"title\": {\"x\": 0.05}, \"xaxis\": {\"automargin\": true, \"gridcolor\": \"white\", \"linecolor\": \"white\", \"ticks\": \"\", \"title\": {\"standoff\": 15}, \"zerolinecolor\": \"white\", \"zerolinewidth\": 2}, \"yaxis\": {\"automargin\": true, \"gridcolor\": \"white\", \"linecolor\": \"white\", \"ticks\": \"\", \"title\": {\"standoff\": 15}, \"zerolinecolor\": \"white\", \"zerolinewidth\": 2}}}, \"title\": {\"text\": \"Number of Resturants Registered on Zomato by Country\"}},\n",
       "                        {\"responsive\": true}\n",
       "                    ).then(function(){\n",
       "                            \n",
       "var gd = document.getElementById('bdc13c4d-9d0a-447a-ba71-33b5b0762435');\n",
       "var x = new MutationObserver(function (mutations, observer) {{\n",
       "        var display = window.getComputedStyle(gd).display;\n",
       "        if (!display || display === 'none') {{\n",
       "            console.log([gd, 'removed!']);\n",
       "            Plotly.purge(gd);\n",
       "            observer.disconnect();\n",
       "        }}\n",
       "}});\n",
       "\n",
       "// Listen for the removal of the full notebook cells\n",
       "var notebookContainer = gd.closest('#notebook-container');\n",
       "if (notebookContainer) {{\n",
       "    x.observe(notebookContainer, {childList: true});\n",
       "}}\n",
       "\n",
       "// Listen for the clearing of the current output cell\n",
       "var outputEl = gd.closest('.output');\n",
       "if (outputEl) {{\n",
       "    x.observe(outputEl, {childList: true});\n",
       "}}\n",
       "\n",
       "                        })\n",
       "                };\n",
       "                });\n",
       "            </script>\n",
       "        </div>"
      ]
     },
     "metadata": {},
     "output_type": "display_data"
    }
   ],
   "source": [
    "\n",
    "Temp = data['Country'].value_counts()\n",
    "data1 = [go.Choropleth(\n",
    "    locationmode='country names',\n",
    "    locations=Temp.index.values,\n",
    "    text=Temp.index,\n",
    "    z=Temp.values\n",
    ")]\n",
    "layout = go.Layout(\n",
    "    title='Number of Resturants Registered on Zomato by Country',\n",
    ")\n",
    "\n",
    "fig = go.Figure(data=data1, layout=layout)\n",
    "iplot(fig)"
   ]
  },
  {
   "cell_type": "code",
   "execution_count": 504,
   "metadata": {},
   "outputs": [
    {
     "data": {
      "text/plain": [
       "<matplotlib.axes._subplots.AxesSubplot at 0x1bfa823da58>"
      ]
     },
     "execution_count": 504,
     "metadata": {},
     "output_type": "execute_result"
    },
    {
     "data": {
      "image/png": "[encoded data removed]",
      "text/plain": [
       "<Figure size 1000x600 with 1 Axes>"
      ]
     },
     "metadata": {
      "image/png": {
       "height": 498,
       "width": 938
      },
      "needs_background": "light"
     },
     "output_type": "display_data"
    }
   ],
   "source": [
    "%config InlineBackend.figure_format = 'retina'\n",
    "df=data.groupby(['Country']).mean()\n",
    "plt.figure(figsize=(8,5),frameon=True,dpi=100)\n",
    "df['Votes'].sort_values().plot(kind='barh',figsize=(10,6))"
   ]
  },
  {
   "cell_type": "code",
   "execution_count": 446,
   "metadata": {},
   "outputs": [],
   "source": [
    "data.columns=['Restaurant_ID', 'Restaurant_Name', 'Country_Code', 'City', 'Address',\n",
    "       'Locality', 'Locality_Verbose', 'Longitude', 'Latitude', 'Cuisines',\n",
    "       'Average_Cost_for_two', 'Currency', 'Has_Table_booking',\n",
    "       'Has_Online_delivery', 'Is_delivering_now', 'Switch_to_order_menu',\n",
    "       'Price_range', 'Aggregate_rating', 'Rating_color', 'Rating_text',\n",
    "       'Votes', 'Country']"
   ]
  },
  {
   "cell_type": "code",
   "execution_count": 447,
   "metadata": {},
   "outputs": [
    {
     "data": {
      "text/plain": [
       "Orange        3737\n",
       "White         2148\n",
       "Yellow        2100\n",
       "Green         1079\n",
       "Dark Green     301\n",
       "Red            186\n",
       "Name: Rating_color, dtype: int64"
      ]
     },
     "execution_count": 447,
     "metadata": {},
     "output_type": "execute_result"
    }
   ],
   "source": [
    "data['Rating_color'].value_counts()"
   ]
  },
  {
   "cell_type": "code",
   "execution_count": 448,
   "metadata": {},
   "outputs": [
    {
     "data": {
      "text/plain": [
       "Average      3737\n",
       "Not rated    2148\n",
       "Good         2100\n",
       "Very Good    1079\n",
       "Excellent     301\n",
       "Poor          186\n",
       "Name: Rating_text, dtype: int64"
      ]
     },
     "execution_count": 448,
     "metadata": {},
     "output_type": "execute_result"
    }
   ],
   "source": [
    "data['Rating_text'].value_counts()"
   ]
  },
  {
   "cell_type": "code",
   "execution_count": 449,
   "metadata": {},
   "outputs": [
    {
     "data": {
      "text/plain": [
       "<matplotlib.axes._subplots.AxesSubplot at 0x1bfc069f4a8>"
      ]
     },
     "execution_count": 449,
     "metadata": {},
     "output_type": "execute_result"
    },
    {
     "data": {
      "image/png": "[encoded data removed]",
      "text/plain": [
       "<Figure size 432x288 with 1 Axes>"
      ]
     },
     "metadata": {
      "image/png": {
       "height": 264,
       "width": 397
      },
      "needs_background": "light"
     },
     "output_type": "display_data"
    }
   ],
   "source": [
    "sns.countplot(x='Rating_text',data=data,palette='viridis')"
   ]
  },
  {
   "cell_type": "code",
   "execution_count": 450,
   "metadata": {},
   "outputs": [
    {
     "data": {
      "text/plain": [
       "Index(['Restaurant_ID', 'Restaurant_Name', 'Country_Code', 'City', 'Address',\n",
       "       'Locality', 'Locality_Verbose', 'Longitude', 'Latitude', 'Cuisines',\n",
       "       'Average_Cost_for_two', 'Currency', 'Has_Table_booking',\n",
       "       'Has_Online_delivery', 'Is_delivering_now', 'Switch_to_order_menu',\n",
       "       'Price_range', 'Aggregate_rating', 'Rating_color', 'Rating_text',\n",
       "       'Votes', 'Country'],\n",
       "      dtype='object')"
      ]
     },
     "execution_count": 450,
     "metadata": {},
     "output_type": "execute_result"
    }
   ],
   "source": [
    "data.columns"
   ]
  },
  {
   "cell_type": "code",
   "execution_count": 451,
   "metadata": {},
   "outputs": [
    {
     "data": {
      "image/png": "[encoded data removed]",
      "text/plain": [
       "<Figure size 432x288 with 1 Axes>"
      ]
     },
     "metadata": {
      "image/png": {
       "height": 265,
       "width": 403
      },
      "needs_background": "light"
     },
     "output_type": "display_data"
    }
   ],
   "source": [
    "sns.countplot(x='Switch_to_order_menu',data=data)\n",
    "plt.show()\n"
   ]
  },
  {
   "cell_type": "code",
   "execution_count": 452,
   "metadata": {},
   "outputs": [],
   "source": [
    "data.drop(['Country_Code','Restaurant_ID', 'Restaurant_Name','Address','Locality','Locality_Verbose','Longitude', 'Latitude', 'Switch_to_order_menu','Rating_color'],axis=1,inplace=True)"
   ]
  },
  {
   "cell_type": "code",
   "execution_count": 453,
   "metadata": {},
   "outputs": [
    {
     "data": {
      "text/plain": [
       "Index(['City', 'Cuisines', 'Average_Cost_for_two', 'Currency',\n",
       "       'Has_Table_booking', 'Has_Online_delivery', 'Is_delivering_now',\n",
       "       'Price_range', 'Aggregate_rating', 'Rating_text', 'Votes', 'Country'],\n",
       "      dtype='object')"
      ]
     },
     "execution_count": 453,
     "metadata": {},
     "output_type": "execute_result"
    }
   ],
   "source": [
    "data.columns"
   ]
  },
  {
   "cell_type": "code",
   "execution_count": 454,
   "metadata": {},
   "outputs": [],
   "source": [
    "data.columns=['City', 'Cuisines', 'Avg_cost', 'Currency',\n",
    "       'Table_booking', 'Online_delivery', 'Delivering_now',\n",
    "       'Price_range', 'Rating', 'Rating_text', 'Votes', 'Country']"
   ]
  },
  {
   "cell_type": "code",
   "execution_count": 455,
   "metadata": {},
   "outputs": [
    {
     "data": {
      "text/plain": [
       "Index(['City', 'Cuisines', 'Avg_cost', 'Currency', 'Table_booking',\n",
       "       'Online_delivery', 'Delivering_now', 'Price_range', 'Rating',\n",
       "       'Rating_text', 'Votes', 'Country'],\n",
       "      dtype='object')"
      ]
     },
     "execution_count": 455,
     "metadata": {},
     "output_type": "execute_result"
    }
   ],
   "source": [
    "data.columns"
   ]
  },
  {
   "cell_type": "code",
   "execution_count": 456,
   "metadata": {},
   "outputs": [],
   "source": [
    "X=data.drop('Rating',axis=1)\n",
    "y=data['Rating']"
   ]
  },
  {
   "cell_type": "code",
   "execution_count": 457,
   "metadata": {},
   "outputs": [
    {
     "data": {
      "text/plain": [
       "City               0\n",
       "Cuisines           9\n",
       "Avg_cost           0\n",
       "Currency           0\n",
       "Table_booking      0\n",
       "Online_delivery    0\n",
       "Delivering_now     0\n",
       "Price_range        0\n",
       "Rating_text        0\n",
       "Votes              0\n",
       "Country            0\n",
       "dtype: int64"
      ]
     },
     "execution_count": 457,
     "metadata": {},
     "output_type": "execute_result"
    }
   ],
   "source": [
    "X.isnull().sum()"
   ]
  },
  {
   "cell_type": "code",
   "execution_count": 458,
   "metadata": {},
   "outputs": [],
   "source": [
    "from sklearn.model_selection import train_test_split\n",
    "\n",
    "X_train, X_test, y_train, y_test = train_test_split(X, y, test_size=0.3, random_state=42)"
   ]
  },
  {
   "cell_type": "code",
   "execution_count": 459,
   "metadata": {},
   "outputs": [
    {
     "data": {
      "image/png": "[encoded data removed]",
      "text/plain": [
       "<Figure size 1080x1080 with 1 Axes>"
      ]
     },
     "metadata": {
      "image/png": {
       "height": 536,
       "width": 877
      },
      "needs_background": "light"
     },
     "output_type": "display_data"
    }
   ],
   "source": [
    "from wordcloud import WordCloud, STOPWORDS\n",
    "stopwords = set(STOPWORDS)\n",
    "\n",
    "wordcloud = (WordCloud(width=500, height=300, relative_scaling=0.5, stopwords=stopwords).generate_from_frequencies(data['Cuisines'].value_counts().head(100)))\n",
    "fig = plt.figure(1,figsize=(15, 15))\n",
    "plt.imshow(wordcloud)\n",
    "plt.axis('off')\n",
    "plt.show()"
   ]
  },
  {
   "cell_type": "code",
   "execution_count": 460,
   "metadata": {},
   "outputs": [
    {
     "data": {
      "text/plain": [
       "North Indian                                                                          936\n",
       "North Indian, Chinese                                                                 511\n",
       "Fast Food                                                                             354\n",
       "Chinese                                                                               354\n",
       "North Indian, Mughlai                                                                 334\n",
       "Cafe                                                                                  299\n",
       "Bakery                                                                                218\n",
       "North Indian, Mughlai, Chinese                                                        197\n",
       "Bakery, Desserts                                                                      170\n",
       "Street Food                                                                           149\n",
       "Pizza, Fast Food                                                                      131\n",
       "Chinese, Fast Food                                                                    118\n",
       "Mithai, Street Food                                                                   116\n",
       "South Indian                                                                          112\n",
       "Bakery, Fast Food                                                                     108\n",
       "Chinese, North Indian                                                                 105\n",
       "Mughlai                                                                               103\n",
       "Ice Cream, Desserts                                                                    83\n",
       "North Indian, Fast Food                                                                74\n",
       "Ice Cream                                                                              74\n",
       "Mithai                                                                                 71\n",
       "North Indian, Chinese, Mughlai                                                         70\n",
       "North Indian, Chinese, Fast Food                                                       68\n",
       "North Indian, Chinese, Continental                                                     65\n",
       "Bakery, Desserts, Fast Food                                                            63\n",
       "American, Fast Food, Salad, Healthy Food                                               62\n",
       "Mughlai, North Indian                                                                  60\n",
       "Fast Food, Burger                                                                      56\n",
       "Italian                                                                                54\n",
       "Biryani                                                                                54\n",
       "                                                                                     ... \n",
       "Desserts, Sandwich, Southern                                                            1\n",
       "Mediterranean, Continental, North Indian, Italian                                       1\n",
       "Pizza, Fast Food, Chinese                                                               1\n",
       "Cafe, Grill                                                                             1\n",
       "Cafe, American, Continental, Armenian, Fast Food                                        1\n",
       "Goan, Seafood                                                                           1\n",
       "North Indian, Chinese, Street Food, Mithai                                              1\n",
       "North Indian, Continental, Beverages, Italian, Burger, Healthy Food, Mediterranean      1\n",
       "Cafe, Continental, Italian, Chinese                                                     1\n",
       "Desserts, Bí_rek                                                                        1\n",
       "Chinese, Canadian                                                                       1\n",
       "Bakery, Desserts, Bakery                                                                1\n",
       "Continental, Chinese, Thai                                                              1\n",
       "Hyderabadi, Biryani, North Indian                                                       1\n",
       "Cafe, Bakery, American, Italian                                                         1\n",
       "American, Fast Food, Desserts                                                           1\n",
       "Italian, Mexican, Chinese                                                               1\n",
       "South Indian, Chinese, Street Food, Mithai                                              1\n",
       "Mediterranean, Cafe, European                                                           1\n",
       "Ice Cream, Street Food                                                                  1\n",
       "American, Seafood, Sushi                                                                1\n",
       "North Indian, Chinese, Turkish                                                          1\n",
       "Cafe, American, Tea                                                                     1\n",
       "Cafe, Tibetan                                                                           1\n",
       "Western, Asian, Cafe                                                                    1\n",
       "Caribbean                                                                               1\n",
       "American, Caribbean, Seafood                                                            1\n",
       "American, Breakfast, Hawaiian                                                           1\n",
       "Seafood, Chinese, Thai                                                                  1\n",
       "Pizza, Seafood, Steak                                                                   1\n",
       "Name: Cuisines, Length: 1825, dtype: int64"
      ]
     },
     "execution_count": 460,
     "metadata": {},
     "output_type": "execute_result"
    }
   ],
   "source": [
    "data.Cuisines.value_counts()\n"
   ]
  },
  {
   "cell_type": "code",
   "execution_count": 461,
   "metadata": {},
   "outputs": [
    {
     "name": "stderr",
     "output_type": "stream",
     "text": [
      "C:\\Users\\deshi\\Anaconda3\\lib\\site-packages\\ipykernel_launcher.py:1: SettingWithCopyWarning:\n",
      "\n",
      "\n",
      "A value is trying to be set on a copy of a slice from a DataFrame.\n",
      "Try using .loc[row_indexer,col_indexer] = value instead\n",
      "\n",
      "See the caveats in the documentation: http://pandas.pydata.org/pandas-docs/stable/indexing.html#indexing-view-versus-copy\n",
      "\n"
     ]
    },
    {
     "data": {
      "text/html": [
       "<div>\n",
       "<style scoped>\n",
       "    .dataframe tbody tr th:only-of-type {\n",
       "        vertical-align: middle;\n",
       "    }\n",
       "\n",
       "    .dataframe tbody tr th {\n",
       "        vertical-align: top;\n",
       "    }\n",
       "\n",
       "    .dataframe thead th {\n",
       "        text-align: right;\n",
       "    }\n",
       "</style>\n",
       "<table border=\"1\" class=\"dataframe\">\n",
       "  <thead>\n",
       "    <tr style=\"text-align: right;\">\n",
       "      <th></th>\n",
       "      <th>City</th>\n",
       "      <th>Cuisines</th>\n",
       "      <th>Avg_cost</th>\n",
       "      <th>Currency</th>\n",
       "      <th>Table_booking</th>\n",
       "      <th>Online_delivery</th>\n",
       "      <th>Delivering_now</th>\n",
       "      <th>Price_range</th>\n",
       "      <th>Rating_text</th>\n",
       "      <th>Votes</th>\n",
       "      <th>Country</th>\n",
       "      <th>no_of_cuisines</th>\n",
       "    </tr>\n",
       "  </thead>\n",
       "  <tbody>\n",
       "    <tr>\n",
       "      <th>84</th>\n",
       "      <td>Albany</td>\n",
       "      <td>NaN</td>\n",
       "      <td>0</td>\n",
       "      <td>Dollar($)</td>\n",
       "      <td>No</td>\n",
       "      <td>No</td>\n",
       "      <td>No</td>\n",
       "      <td>1</td>\n",
       "      <td>Average</td>\n",
       "      <td>34</td>\n",
       "      <td>United States</td>\n",
       "      <td>NaN</td>\n",
       "    </tr>\n",
       "    <tr>\n",
       "      <th>90</th>\n",
       "      <td>Albany</td>\n",
       "      <td>Pizza, Bar Food, Sandwich</td>\n",
       "      <td>25</td>\n",
       "      <td>Dollar($)</td>\n",
       "      <td>No</td>\n",
       "      <td>No</td>\n",
       "      <td>No</td>\n",
       "      <td>2</td>\n",
       "      <td>Good</td>\n",
       "      <td>147</td>\n",
       "      <td>United States</td>\n",
       "      <td>3.0</td>\n",
       "    </tr>\n",
       "    <tr>\n",
       "      <th>86</th>\n",
       "      <td>Albany</td>\n",
       "      <td>Coffee and Tea, Sandwich</td>\n",
       "      <td>10</td>\n",
       "      <td>Dollar($)</td>\n",
       "      <td>No</td>\n",
       "      <td>No</td>\n",
       "      <td>No</td>\n",
       "      <td>1</td>\n",
       "      <td>Average</td>\n",
       "      <td>26</td>\n",
       "      <td>United States</td>\n",
       "      <td>2.0</td>\n",
       "    </tr>\n",
       "    <tr>\n",
       "      <th>82</th>\n",
       "      <td>Albany</td>\n",
       "      <td>BBQ, Burger, Seafood</td>\n",
       "      <td>25</td>\n",
       "      <td>Dollar($)</td>\n",
       "      <td>No</td>\n",
       "      <td>No</td>\n",
       "      <td>No</td>\n",
       "      <td>2</td>\n",
       "      <td>Average</td>\n",
       "      <td>35</td>\n",
       "      <td>United States</td>\n",
       "      <td>3.0</td>\n",
       "    </tr>\n",
       "    <tr>\n",
       "      <th>83</th>\n",
       "      <td>Albany</td>\n",
       "      <td>American, BBQ</td>\n",
       "      <td>10</td>\n",
       "      <td>Dollar($)</td>\n",
       "      <td>No</td>\n",
       "      <td>No</td>\n",
       "      <td>No</td>\n",
       "      <td>1</td>\n",
       "      <td>Average</td>\n",
       "      <td>25</td>\n",
       "      <td>United States</td>\n",
       "      <td>2.0</td>\n",
       "    </tr>\n",
       "    <tr>\n",
       "      <th>85</th>\n",
       "      <td>Albany</td>\n",
       "      <td>Mexican</td>\n",
       "      <td>0</td>\n",
       "      <td>Dollar($)</td>\n",
       "      <td>No</td>\n",
       "      <td>No</td>\n",
       "      <td>No</td>\n",
       "      <td>1</td>\n",
       "      <td>Average</td>\n",
       "      <td>45</td>\n",
       "      <td>United States</td>\n",
       "      <td>1.0</td>\n",
       "    </tr>\n",
       "    <tr>\n",
       "      <th>97</th>\n",
       "      <td>Albany</td>\n",
       "      <td>Japanese, Steak, Sushi</td>\n",
       "      <td>40</td>\n",
       "      <td>Dollar($)</td>\n",
       "      <td>No</td>\n",
       "      <td>No</td>\n",
       "      <td>No</td>\n",
       "      <td>3</td>\n",
       "      <td>Good</td>\n",
       "      <td>115</td>\n",
       "      <td>United States</td>\n",
       "      <td>3.0</td>\n",
       "    </tr>\n",
       "    <tr>\n",
       "      <th>89</th>\n",
       "      <td>Albany</td>\n",
       "      <td>Asian, Chinese, Vegetarian</td>\n",
       "      <td>10</td>\n",
       "      <td>Dollar($)</td>\n",
       "      <td>No</td>\n",
       "      <td>No</td>\n",
       "      <td>No</td>\n",
       "      <td>1</td>\n",
       "      <td>Good</td>\n",
       "      <td>141</td>\n",
       "      <td>United States</td>\n",
       "      <td>3.0</td>\n",
       "    </tr>\n",
       "    <tr>\n",
       "      <th>94</th>\n",
       "      <td>Albany</td>\n",
       "      <td>NaN</td>\n",
       "      <td>10</td>\n",
       "      <td>Dollar($)</td>\n",
       "      <td>No</td>\n",
       "      <td>No</td>\n",
       "      <td>No</td>\n",
       "      <td>1</td>\n",
       "      <td>Good</td>\n",
       "      <td>160</td>\n",
       "      <td>United States</td>\n",
       "      <td>NaN</td>\n",
       "    </tr>\n",
       "    <tr>\n",
       "      <th>98</th>\n",
       "      <td>Albany</td>\n",
       "      <td>Japanese, Steak, Sushi</td>\n",
       "      <td>40</td>\n",
       "      <td>Dollar($)</td>\n",
       "      <td>No</td>\n",
       "      <td>No</td>\n",
       "      <td>No</td>\n",
       "      <td>3</td>\n",
       "      <td>Good</td>\n",
       "      <td>51</td>\n",
       "      <td>United States</td>\n",
       "      <td>3.0</td>\n",
       "    </tr>\n",
       "  </tbody>\n",
       "</table>\n",
       "</div>"
      ],
      "text/plain": [
       "      City                    Cuisines  Avg_cost   Currency Table_booking  \\\n",
       "84  Albany                         NaN         0  Dollar($)            No   \n",
       "90  Albany   Pizza, Bar Food, Sandwich        25  Dollar($)            No   \n",
       "86  Albany    Coffee and Tea, Sandwich        10  Dollar($)            No   \n",
       "82  Albany        BBQ, Burger, Seafood        25  Dollar($)            No   \n",
       "83  Albany               American, BBQ        10  Dollar($)            No   \n",
       "85  Albany                     Mexican         0  Dollar($)            No   \n",
       "97  Albany      Japanese, Steak, Sushi        40  Dollar($)            No   \n",
       "89  Albany  Asian, Chinese, Vegetarian        10  Dollar($)            No   \n",
       "94  Albany                         NaN        10  Dollar($)            No   \n",
       "98  Albany      Japanese, Steak, Sushi        40  Dollar($)            No   \n",
       "\n",
       "   Online_delivery Delivering_now  Price_range Rating_text  Votes  \\\n",
       "84              No             No            1     Average     34   \n",
       "90              No             No            2        Good    147   \n",
       "86              No             No            1     Average     26   \n",
       "82              No             No            2     Average     35   \n",
       "83              No             No            1     Average     25   \n",
       "85              No             No            1     Average     45   \n",
       "97              No             No            3        Good    115   \n",
       "89              No             No            1        Good    141   \n",
       "94              No             No            1        Good    160   \n",
       "98              No             No            3        Good     51   \n",
       "\n",
       "          Country  no_of_cuisines  \n",
       "84  United States             NaN  \n",
       "90  United States             3.0  \n",
       "86  United States             2.0  \n",
       "82  United States             3.0  \n",
       "83  United States             2.0  \n",
       "85  United States             1.0  \n",
       "97  United States             3.0  \n",
       "89  United States             3.0  \n",
       "94  United States             NaN  \n",
       "98  United States             3.0  "
      ]
     },
     "execution_count": 461,
     "metadata": {},
     "output_type": "execute_result"
    }
   ],
   "source": [
    "X_train['no_of_cuisines'] = data.Cuisines.str.count(',')+1\n",
    "X_train.head()\n",
    "X_train.loc[X_train['City']=='Albany']"
   ]
  },
  {
   "cell_type": "code",
   "execution_count": 462,
   "metadata": {},
   "outputs": [
    {
     "name": "stderr",
     "output_type": "stream",
     "text": [
      "C:\\Users\\deshi\\Anaconda3\\lib\\site-packages\\ipykernel_launcher.py:1: SettingWithCopyWarning:\n",
      "\n",
      "\n",
      "A value is trying to be set on a copy of a slice from a DataFrame.\n",
      "Try using .loc[row_indexer,col_indexer] = value instead\n",
      "\n",
      "See the caveats in the documentation: http://pandas.pydata.org/pandas-docs/stable/indexing.html#indexing-view-versus-copy\n",
      "\n"
     ]
    },
    {
     "data": {
      "text/html": [
       "<div>\n",
       "<style scoped>\n",
       "    .dataframe tbody tr th:only-of-type {\n",
       "        vertical-align: middle;\n",
       "    }\n",
       "\n",
       "    .dataframe tbody tr th {\n",
       "        vertical-align: top;\n",
       "    }\n",
       "\n",
       "    .dataframe thead th {\n",
       "        text-align: right;\n",
       "    }\n",
       "</style>\n",
       "<table border=\"1\" class=\"dataframe\">\n",
       "  <thead>\n",
       "    <tr style=\"text-align: right;\">\n",
       "      <th></th>\n",
       "      <th>City</th>\n",
       "      <th>Cuisines</th>\n",
       "      <th>Avg_cost</th>\n",
       "      <th>Currency</th>\n",
       "      <th>Table_booking</th>\n",
       "      <th>Online_delivery</th>\n",
       "      <th>Delivering_now</th>\n",
       "      <th>Price_range</th>\n",
       "      <th>Rating_text</th>\n",
       "      <th>Votes</th>\n",
       "      <th>Country</th>\n",
       "      <th>no_of_cuisines</th>\n",
       "    </tr>\n",
       "  </thead>\n",
       "  <tbody>\n",
       "    <tr>\n",
       "      <th>4731</th>\n",
       "      <td>New Delhi</td>\n",
       "      <td>North Indian</td>\n",
       "      <td>350</td>\n",
       "      <td>Indian Rupees(Rs.)</td>\n",
       "      <td>No</td>\n",
       "      <td>No</td>\n",
       "      <td>No</td>\n",
       "      <td>1</td>\n",
       "      <td>Poor</td>\n",
       "      <td>54</td>\n",
       "      <td>India</td>\n",
       "      <td>1.0</td>\n",
       "    </tr>\n",
       "    <tr>\n",
       "      <th>1468</th>\n",
       "      <td>Gurgaon</td>\n",
       "      <td>Mughlai, Hyderabadi</td>\n",
       "      <td>700</td>\n",
       "      <td>Indian Rupees(Rs.)</td>\n",
       "      <td>No</td>\n",
       "      <td>Yes</td>\n",
       "      <td>No</td>\n",
       "      <td>2</td>\n",
       "      <td>Very Good</td>\n",
       "      <td>84</td>\n",
       "      <td>India</td>\n",
       "      <td>2.0</td>\n",
       "    </tr>\n",
       "    <tr>\n",
       "      <th>9037</th>\n",
       "      <td>Noida</td>\n",
       "      <td>North Indian, Mughlai</td>\n",
       "      <td>550</td>\n",
       "      <td>Indian Rupees(Rs.)</td>\n",
       "      <td>No</td>\n",
       "      <td>No</td>\n",
       "      <td>No</td>\n",
       "      <td>2</td>\n",
       "      <td>Average</td>\n",
       "      <td>36</td>\n",
       "      <td>India</td>\n",
       "      <td>2.0</td>\n",
       "    </tr>\n",
       "    <tr>\n",
       "      <th>7866</th>\n",
       "      <td>New Delhi</td>\n",
       "      <td>Fast Food</td>\n",
       "      <td>200</td>\n",
       "      <td>Indian Rupees(Rs.)</td>\n",
       "      <td>No</td>\n",
       "      <td>Yes</td>\n",
       "      <td>No</td>\n",
       "      <td>1</td>\n",
       "      <td>Very Good</td>\n",
       "      <td>163</td>\n",
       "      <td>India</td>\n",
       "      <td>1.0</td>\n",
       "    </tr>\n",
       "    <tr>\n",
       "      <th>5570</th>\n",
       "      <td>New Delhi</td>\n",
       "      <td>North Indian, Mughlai</td>\n",
       "      <td>400</td>\n",
       "      <td>Indian Rupees(Rs.)</td>\n",
       "      <td>No</td>\n",
       "      <td>No</td>\n",
       "      <td>No</td>\n",
       "      <td>1</td>\n",
       "      <td>Good</td>\n",
       "      <td>14</td>\n",
       "      <td>India</td>\n",
       "      <td>2.0</td>\n",
       "    </tr>\n",
       "  </tbody>\n",
       "</table>\n",
       "</div>"
      ],
      "text/plain": [
       "           City               Cuisines  Avg_cost            Currency  \\\n",
       "4731  New Delhi           North Indian       350  Indian Rupees(Rs.)   \n",
       "1468    Gurgaon    Mughlai, Hyderabadi       700  Indian Rupees(Rs.)   \n",
       "9037      Noida  North Indian, Mughlai       550  Indian Rupees(Rs.)   \n",
       "7866  New Delhi              Fast Food       200  Indian Rupees(Rs.)   \n",
       "5570  New Delhi  North Indian, Mughlai       400  Indian Rupees(Rs.)   \n",
       "\n",
       "     Table_booking Online_delivery Delivering_now  Price_range Rating_text  \\\n",
       "4731            No              No             No            1        Poor   \n",
       "1468            No             Yes             No            2   Very Good   \n",
       "9037            No              No             No            2     Average   \n",
       "7866            No             Yes             No            1   Very Good   \n",
       "5570            No              No             No            1        Good   \n",
       "\n",
       "      Votes Country  no_of_cuisines  \n",
       "4731     54   India             1.0  \n",
       "1468     84   India             2.0  \n",
       "9037     36   India             2.0  \n",
       "7866    163   India             1.0  \n",
       "5570     14   India             2.0  "
      ]
     },
     "execution_count": 462,
     "metadata": {},
     "output_type": "execute_result"
    }
   ],
   "source": [
    "X_test['no_of_cuisines'] = data.Cuisines.str.count(',')+1\n",
    "X_test.head()"
   ]
  },
  {
   "cell_type": "code",
   "execution_count": 463,
   "metadata": {},
   "outputs": [
    {
     "data": {
      "text/plain": [
       "2.0    2418\n",
       "1.0    2388\n",
       "3.0    1272\n",
       "4.0     400\n",
       "5.0     114\n",
       "6.0      51\n",
       "7.0      26\n",
       "8.0      11\n",
       "Name: no_of_cuisines, dtype: int64"
      ]
     },
     "execution_count": 463,
     "metadata": {},
     "output_type": "execute_result"
    }
   ],
   "source": [
    "X_train.no_of_cuisines.value_counts()\n"
   ]
  },
  {
   "cell_type": "code",
   "execution_count": 464,
   "metadata": {},
   "outputs": [
    {
     "data": {
      "text/plain": [
       "2.0    1026\n",
       "1.0    1006\n",
       "3.0     568\n",
       "4.0     184\n",
       "5.0      50\n",
       "6.0      23\n",
       "8.0       3\n",
       "7.0       2\n",
       "Name: no_of_cuisines, dtype: int64"
      ]
     },
     "execution_count": 464,
     "metadata": {},
     "output_type": "execute_result"
    }
   ],
   "source": [
    "X_test.no_of_cuisines.value_counts()\n"
   ]
  },
  {
   "cell_type": "code",
   "execution_count": 465,
   "metadata": {},
   "outputs": [
    {
     "name": "stderr",
     "output_type": "stream",
     "text": [
      "C:\\Users\\deshi\\Anaconda3\\lib\\site-packages\\pandas\\core\\generic.py:5434: SettingWithCopyWarning:\n",
      "\n",
      "\n",
      "A value is trying to be set on a copy of a slice from a DataFrame\n",
      "\n",
      "See the caveats in the documentation: http://pandas.pydata.org/pandas-docs/stable/indexing.html#indexing-view-versus-copy\n",
      "\n"
     ]
    }
   ],
   "source": [
    "X_train[\"no_of_cuisines\"].fillna(2, inplace = True)\n",
    "X_test[\"no_of_cuisines\"].fillna(2, inplace = True)"
   ]
  },
  {
   "cell_type": "code",
   "execution_count": 466,
   "metadata": {},
   "outputs": [
    {
     "data": {
      "text/plain": [
       "City               0\n",
       "Cuisines           5\n",
       "Avg_cost           0\n",
       "Currency           0\n",
       "Table_booking      0\n",
       "Online_delivery    0\n",
       "Delivering_now     0\n",
       "Price_range        0\n",
       "Rating_text        0\n",
       "Votes              0\n",
       "Country            0\n",
       "no_of_cuisines     0\n",
       "dtype: int64"
      ]
     },
     "execution_count": 466,
     "metadata": {},
     "output_type": "execute_result"
    }
   ],
   "source": [
    "X_train.isnull().sum()\n"
   ]
  },
  {
   "cell_type": "code",
   "execution_count": 467,
   "metadata": {},
   "outputs": [
    {
     "data": {
      "text/plain": [
       "City               0\n",
       "Cuisines           4\n",
       "Avg_cost           0\n",
       "Currency           0\n",
       "Table_booking      0\n",
       "Online_delivery    0\n",
       "Delivering_now     0\n",
       "Price_range        0\n",
       "Rating_text        0\n",
       "Votes              0\n",
       "Country            0\n",
       "no_of_cuisines     0\n",
       "dtype: int64"
      ]
     },
     "execution_count": 467,
     "metadata": {},
     "output_type": "execute_result"
    }
   ],
   "source": [
    "X_test.isnull().sum()\n"
   ]
  },
  {
   "cell_type": "code",
   "execution_count": 468,
   "metadata": {},
   "outputs": [],
   "source": [
    "def continent (x):\n",
    "    if (x in ['United States','Canada','Brazil']):\n",
    "        return ('Americas')\n",
    "    elif (x in ['India','Phillipines','Sri Lanka','UAE' ,'Indonesia' ,'Qatar','Singapore']):\n",
    "        return ('Asia')\n",
    "    elif (x in ['Australia','New Zealand']):\n",
    "        return ('Australia_continent')\n",
    "    elif (x in ['Turkey','United Kingdom']):\n",
    "        return ('Europe')\n",
    "    else:\n",
    "        return ('Africa')"
   ]
  },
  {
   "cell_type": "code",
   "execution_count": 469,
   "metadata": {},
   "outputs": [
    {
     "name": "stderr",
     "output_type": "stream",
     "text": [
      "C:\\Users\\deshi\\Anaconda3\\lib\\site-packages\\ipykernel_launcher.py:1: SettingWithCopyWarning:\n",
      "\n",
      "\n",
      "A value is trying to be set on a copy of a slice from a DataFrame.\n",
      "Try using .loc[row_indexer,col_indexer] = value instead\n",
      "\n",
      "See the caveats in the documentation: http://pandas.pydata.org/pandas-docs/stable/indexing.html#indexing-view-versus-copy\n",
      "\n",
      "C:\\Users\\deshi\\Anaconda3\\lib\\site-packages\\ipykernel_launcher.py:2: SettingWithCopyWarning:\n",
      "\n",
      "\n",
      "A value is trying to be set on a copy of a slice from a DataFrame.\n",
      "Try using .loc[row_indexer,col_indexer] = value instead\n",
      "\n",
      "See the caveats in the documentation: http://pandas.pydata.org/pandas-docs/stable/indexing.html#indexing-view-versus-copy\n",
      "\n"
     ]
    }
   ],
   "source": [
    "X_train['Continent']=X_train['Country'].apply(continent)\n",
    "X_test['Continent']=X_test['Country'].apply(continent)"
   ]
  },
  {
   "cell_type": "code",
   "execution_count": 470,
   "metadata": {},
   "outputs": [
    {
     "data": {
      "text/plain": [
       "<matplotlib.axes._subplots.AxesSubplot at 0x1bfc0962dd8>"
      ]
     },
     "execution_count": 470,
     "metadata": {},
     "output_type": "execute_result"
    },
    {
     "data": {
      "image/png": "[encoded data removed]",
      "text/plain": [
       "<Figure size 1000x600 with 1 Axes>"
      ]
     },
     "metadata": {
      "image/png": {
       "height": 498,
       "width": 937
      },
      "needs_background": "light"
     },
     "output_type": "display_data"
    }
   ],
   "source": [
    "%config InlineBackend.figure_format = 'retina'\n",
    "plt.figure(figsize=(8,5),dpi=100)\n",
    "data.groupby(['Country']).mean()['Avg_cost'].sort_values().plot(kind='barh',figsize=(10,6))"
   ]
  },
  {
   "cell_type": "code",
   "execution_count": 471,
   "metadata": {},
   "outputs": [],
   "source": [
    "conversion_rates= {'Botswana Pula(P)':0.095, 'Brazilian Real(R$)':0.266,'Dollar($)':1,'Emirati Diram(AED)':0.272,\n",
    "    'Indian Rupees(Rs.)':0.014,'Indonesian Rupiah(IDR)':0.00007,'NewZealand($)':0.688,'Pounds(£)':1.314,\n",
    "    'Qatari Rial(QR)':0.274,'Rand(R)':0.072,'Sri Lankan Rupee(LKR)':0.0055,'Turkish Lira(TL)':0.188}"
   ]
  },
  {
   "cell_type": "code",
   "execution_count": 472,
   "metadata": {},
   "outputs": [
    {
     "name": "stderr",
     "output_type": "stream",
     "text": [
      "C:\\Users\\deshi\\Anaconda3\\lib\\site-packages\\ipykernel_launcher.py:1: SettingWithCopyWarning:\n",
      "\n",
      "\n",
      "A value is trying to be set on a copy of a slice from a DataFrame.\n",
      "Try using .loc[row_indexer,col_indexer] = value instead\n",
      "\n",
      "See the caveats in the documentation: http://pandas.pydata.org/pandas-docs/stable/indexing.html#indexing-view-versus-copy\n",
      "\n",
      "C:\\Users\\deshi\\Anaconda3\\lib\\site-packages\\ipykernel_launcher.py:2: SettingWithCopyWarning:\n",
      "\n",
      "\n",
      "A value is trying to be set on a copy of a slice from a DataFrame.\n",
      "Try using .loc[row_indexer,col_indexer] = value instead\n",
      "\n",
      "See the caveats in the documentation: http://pandas.pydata.org/pandas-docs/stable/indexing.html#indexing-view-versus-copy\n",
      "\n"
     ]
    }
   ],
   "source": [
    "X_train['New_cost'] = X_train['Avg_cost'] * X_train['Currency'].map(conversion_rates)\n",
    "X_test['New_cost'] = X_test['Avg_cost'] * X_test['Currency'].map(conversion_rates)"
   ]
  },
  {
   "cell_type": "code",
   "execution_count": 473,
   "metadata": {},
   "outputs": [
    {
     "data": {
      "text/plain": [
       "<matplotlib.axes._subplots.AxesSubplot at 0x1bfb5cd0908>"
      ]
     },
     "execution_count": 473,
     "metadata": {},
     "output_type": "execute_result"
    },
    {
     "data": {
      "image/png": "[encoded data removed]",
      "text/plain": [
       "<Figure size 1000x600 with 1 Axes>"
      ]
     },
     "metadata": {
      "image/png": {
       "height": 498,
       "width": 937
      },
      "needs_background": "light"
     },
     "output_type": "display_data"
    }
   ],
   "source": [
    "%config InlineBackend.figure_format = 'retina'\n",
    "plt.figure(figsize=(8,5),dpi=100)\n",
    "X_train.groupby(['Country']).mean()['New_cost'].sort_values().plot(kind='barh',figsize=(10,6))"
   ]
  },
  {
   "cell_type": "code",
   "execution_count": 474,
   "metadata": {},
   "outputs": [],
   "source": [
    "def continent (x):\n",
    "    if (x in ['United States','Canada','Brazil']):\n",
    "        return ('Americas')\n",
    "    elif (x in ['India','Phillipines','Sri Lanka','UAE' ,'Indonesia' ,'Qatar','Singapore']):\n",
    "        return ('Asia')\n",
    "    elif (x in ['Australia','New Zealand']):\n",
    "        return ('Australia_continent')\n",
    "    elif (x in ['Turkey','United Kingdom']):\n",
    "        return ('Europe')\n",
    "    else:\n",
    "        return ('Africa')"
   ]
  },
  {
   "cell_type": "code",
   "execution_count": 475,
   "metadata": {},
   "outputs": [
    {
     "name": "stderr",
     "output_type": "stream",
     "text": [
      "C:\\Users\\deshi\\Anaconda3\\lib\\site-packages\\ipykernel_launcher.py:1: SettingWithCopyWarning:\n",
      "\n",
      "\n",
      "A value is trying to be set on a copy of a slice from a DataFrame.\n",
      "Try using .loc[row_indexer,col_indexer] = value instead\n",
      "\n",
      "See the caveats in the documentation: http://pandas.pydata.org/pandas-docs/stable/indexing.html#indexing-view-versus-copy\n",
      "\n",
      "C:\\Users\\deshi\\Anaconda3\\lib\\site-packages\\ipykernel_launcher.py:2: SettingWithCopyWarning:\n",
      "\n",
      "\n",
      "A value is trying to be set on a copy of a slice from a DataFrame.\n",
      "Try using .loc[row_indexer,col_indexer] = value instead\n",
      "\n",
      "See the caveats in the documentation: http://pandas.pydata.org/pandas-docs/stable/indexing.html#indexing-view-versus-copy\n",
      "\n"
     ]
    }
   ],
   "source": [
    "X_train['Continent']=X_train['Country'].apply(continent)\n",
    "X_test['Continent']=X_test['Country'].apply(continent)"
   ]
  },
  {
   "cell_type": "code",
   "execution_count": 476,
   "metadata": {},
   "outputs": [
    {
     "name": "stderr",
     "output_type": "stream",
     "text": [
      "C:\\Users\\deshi\\Anaconda3\\lib\\site-packages\\pandas\\core\\generic.py:4405: SettingWithCopyWarning:\n",
      "\n",
      "\n",
      "A value is trying to be set on a copy of a slice from a DataFrame.\n",
      "Try using .loc[row_indexer,col_indexer] = value instead\n",
      "\n",
      "See the caveats in the documentation: http://pandas.pydata.org/pandas-docs/stable/indexing.html#indexing-view-versus-copy\n",
      "\n"
     ]
    }
   ],
   "source": [
    "dictionary = {'Excellent': 5,'Very Good': 4,'Average': 2,'Good': 3,'Not rated': 2,'Poor': 1} \n",
    "X_train.Rating_text = [dictionary[item] for item in X_train.Rating_text] \n",
    "X_test.Rating_text = [dictionary[item] for item in X_test.Rating_text]"
   ]
  },
  {
   "cell_type": "code",
   "execution_count": 477,
   "metadata": {},
   "outputs": [],
   "source": [
    "Binary= {'Yes': 1,'No': 0} \n",
    "\n",
    "X_train.Online_delivery = [Binary[item] for item in X_train.Online_delivery] \n",
    "X_train.Table_booking = [Binary[item] for item in X_train.Table_booking] \n",
    "X_train.Delivering_now = [Binary[item] for item in X_train.Delivering_now] \n",
    "\n",
    "X_test.Online_delivery = [Binary[item] for item in X_test.Online_delivery] \n",
    "X_test.Table_booking = [Binary[item] for item in X_test.Table_booking] \n",
    "X_test.Delivering_now = [Binary[item] for item in X_test.Delivering_now]"
   ]
  },
  {
   "cell_type": "code",
   "execution_count": 478,
   "metadata": {},
   "outputs": [
    {
     "name": "stdout",
     "output_type": "stream",
     "text": [
      "Number of cities in the data :  141\n"
     ]
    }
   ],
   "source": [
    "print('Number of cities in the data : ',len(data.City.unique()))\n"
   ]
  },
  {
   "cell_type": "code",
   "execution_count": 479,
   "metadata": {},
   "outputs": [
    {
     "name": "stderr",
     "output_type": "stream",
     "text": [
      "C:\\Users\\deshi\\Anaconda3\\lib\\site-packages\\pandas\\core\\frame.py:3697: SettingWithCopyWarning:\n",
      "\n",
      "\n",
      "A value is trying to be set on a copy of a slice from a DataFrame\n",
      "\n",
      "See the caveats in the documentation: http://pandas.pydata.org/pandas-docs/stable/indexing.html#indexing-view-versus-copy\n",
      "\n"
     ]
    }
   ],
   "source": [
    "X_train.drop(['Avg_cost','Cuisines','Currency','City'],axis=1,inplace=True)\n",
    "X_test.drop(['Avg_cost','Cuisines','Currency','City'],axis=1,inplace=True)"
   ]
  },
  {
   "cell_type": "code",
   "execution_count": 480,
   "metadata": {},
   "outputs": [
    {
     "name": "stdout",
     "output_type": "stream",
     "text": [
      "(6685, 10)\n",
      "(2866, 10)\n"
     ]
    }
   ],
   "source": [
    "print(X_train.shape)\n",
    "print(X_test.shape)"
   ]
  },
  {
   "cell_type": "code",
   "execution_count": 481,
   "metadata": {},
   "outputs": [
    {
     "data": {
      "text/html": [
       "<div>\n",
       "<style scoped>\n",
       "    .dataframe tbody tr th:only-of-type {\n",
       "        vertical-align: middle;\n",
       "    }\n",
       "\n",
       "    .dataframe tbody tr th {\n",
       "        vertical-align: top;\n",
       "    }\n",
       "\n",
       "    .dataframe thead th {\n",
       "        text-align: right;\n",
       "    }\n",
       "</style>\n",
       "<table border=\"1\" class=\"dataframe\">\n",
       "  <thead>\n",
       "    <tr style=\"text-align: right;\">\n",
       "      <th></th>\n",
       "      <th>0</th>\n",
       "      <th>1</th>\n",
       "      <th>2</th>\n",
       "      <th>3</th>\n",
       "      <th>4</th>\n",
       "    </tr>\n",
       "  </thead>\n",
       "  <tbody>\n",
       "    <tr>\n",
       "      <th>City</th>\n",
       "      <td>Makati City</td>\n",
       "      <td>Makati City</td>\n",
       "      <td>Mandaluyong City</td>\n",
       "      <td>Mandaluyong City</td>\n",
       "      <td>Mandaluyong City</td>\n",
       "    </tr>\n",
       "    <tr>\n",
       "      <th>Cuisines</th>\n",
       "      <td>French, Japanese, Desserts</td>\n",
       "      <td>Japanese</td>\n",
       "      <td>Seafood, Asian, Filipino, Indian</td>\n",
       "      <td>Japanese, Sushi</td>\n",
       "      <td>Japanese, Korean</td>\n",
       "    </tr>\n",
       "    <tr>\n",
       "      <th>Avg_cost</th>\n",
       "      <td>1100</td>\n",
       "      <td>1200</td>\n",
       "      <td>4000</td>\n",
       "      <td>1500</td>\n",
       "      <td>1500</td>\n",
       "    </tr>\n",
       "    <tr>\n",
       "      <th>Currency</th>\n",
       "      <td>Botswana Pula(P)</td>\n",
       "      <td>Botswana Pula(P)</td>\n",
       "      <td>Botswana Pula(P)</td>\n",
       "      <td>Botswana Pula(P)</td>\n",
       "      <td>Botswana Pula(P)</td>\n",
       "    </tr>\n",
       "    <tr>\n",
       "      <th>Table_booking</th>\n",
       "      <td>Yes</td>\n",
       "      <td>Yes</td>\n",
       "      <td>Yes</td>\n",
       "      <td>No</td>\n",
       "      <td>Yes</td>\n",
       "    </tr>\n",
       "    <tr>\n",
       "      <th>Online_delivery</th>\n",
       "      <td>No</td>\n",
       "      <td>No</td>\n",
       "      <td>No</td>\n",
       "      <td>No</td>\n",
       "      <td>No</td>\n",
       "    </tr>\n",
       "    <tr>\n",
       "      <th>Delivering_now</th>\n",
       "      <td>No</td>\n",
       "      <td>No</td>\n",
       "      <td>No</td>\n",
       "      <td>No</td>\n",
       "      <td>No</td>\n",
       "    </tr>\n",
       "    <tr>\n",
       "      <th>Price_range</th>\n",
       "      <td>3</td>\n",
       "      <td>3</td>\n",
       "      <td>4</td>\n",
       "      <td>4</td>\n",
       "      <td>4</td>\n",
       "    </tr>\n",
       "    <tr>\n",
       "      <th>Rating</th>\n",
       "      <td>4.8</td>\n",
       "      <td>4.5</td>\n",
       "      <td>4.4</td>\n",
       "      <td>4.9</td>\n",
       "      <td>4.8</td>\n",
       "    </tr>\n",
       "    <tr>\n",
       "      <th>Rating_text</th>\n",
       "      <td>Excellent</td>\n",
       "      <td>Excellent</td>\n",
       "      <td>Very Good</td>\n",
       "      <td>Excellent</td>\n",
       "      <td>Excellent</td>\n",
       "    </tr>\n",
       "    <tr>\n",
       "      <th>Votes</th>\n",
       "      <td>314</td>\n",
       "      <td>591</td>\n",
       "      <td>270</td>\n",
       "      <td>365</td>\n",
       "      <td>229</td>\n",
       "    </tr>\n",
       "    <tr>\n",
       "      <th>Country</th>\n",
       "      <td>Phillipines</td>\n",
       "      <td>Phillipines</td>\n",
       "      <td>Phillipines</td>\n",
       "      <td>Phillipines</td>\n",
       "      <td>Phillipines</td>\n",
       "    </tr>\n",
       "  </tbody>\n",
       "</table>\n",
       "</div>"
      ],
      "text/plain": [
       "                                          0                 1  \\\n",
       "City                            Makati City       Makati City   \n",
       "Cuisines         French, Japanese, Desserts          Japanese   \n",
       "Avg_cost                               1100              1200   \n",
       "Currency                   Botswana Pula(P)  Botswana Pula(P)   \n",
       "Table_booking                           Yes               Yes   \n",
       "Online_delivery                          No                No   \n",
       "Delivering_now                           No                No   \n",
       "Price_range                               3                 3   \n",
       "Rating                                  4.8               4.5   \n",
       "Rating_text                       Excellent         Excellent   \n",
       "Votes                                   314               591   \n",
       "Country                         Phillipines       Phillipines   \n",
       "\n",
       "                                                2                 3  \\\n",
       "City                             Mandaluyong City  Mandaluyong City   \n",
       "Cuisines         Seafood, Asian, Filipino, Indian   Japanese, Sushi   \n",
       "Avg_cost                                     4000              1500   \n",
       "Currency                         Botswana Pula(P)  Botswana Pula(P)   \n",
       "Table_booking                                 Yes                No   \n",
       "Online_delivery                                No                No   \n",
       "Delivering_now                                 No                No   \n",
       "Price_range                                     4                 4   \n",
       "Rating                                        4.4               4.9   \n",
       "Rating_text                             Very Good         Excellent   \n",
       "Votes                                         270               365   \n",
       "Country                               Phillipines       Phillipines   \n",
       "\n",
       "                                4  \n",
       "City             Mandaluyong City  \n",
       "Cuisines         Japanese, Korean  \n",
       "Avg_cost                     1500  \n",
       "Currency         Botswana Pula(P)  \n",
       "Table_booking                 Yes  \n",
       "Online_delivery                No  \n",
       "Delivering_now                 No  \n",
       "Price_range                     4  \n",
       "Rating                        4.8  \n",
       "Rating_text             Excellent  \n",
       "Votes                         229  \n",
       "Country               Phillipines  "
      ]
     },
     "execution_count": 481,
     "metadata": {},
     "output_type": "execute_result"
    }
   ],
   "source": [
    "data.head().T\n"
   ]
  },
  {
   "cell_type": "code",
   "execution_count": 482,
   "metadata": {},
   "outputs": [],
   "source": [
    "train_conti=pd.DataFrame(pd.get_dummies(X_train.Continent))\n",
    "test_conti=pd.get_dummies(X_test.Continent)"
   ]
  },
  {
   "cell_type": "code",
   "execution_count": 483,
   "metadata": {},
   "outputs": [],
   "source": [
    "train_countr=pd.get_dummies(X_train.Country)\n",
    "test_countr=pd.get_dummies(X_test.Country)"
   ]
  },
  {
   "cell_type": "code",
   "execution_count": 484,
   "metadata": {},
   "outputs": [],
   "source": [
    "X_train=pd.concat([X_train,train_conti,train_countr],axis=1)\n",
    "X_test=pd.concat([X_test,test_conti,test_countr],axis=1)"
   ]
  },
  {
   "cell_type": "code",
   "execution_count": 485,
   "metadata": {},
   "outputs": [
    {
     "data": {
      "text/plain": [
       "Index(['Table_booking', 'Online_delivery', 'Delivering_now', 'Price_range',\n",
       "       'Rating_text', 'Votes', 'Country', 'no_of_cuisines', 'Continent',\n",
       "       'New_cost', 'Africa', 'Americas', 'Asia', 'Australia_continent',\n",
       "       'Europe', 'Australia', 'Brazil', 'Canada', 'India', 'Indonesia',\n",
       "       'New Zealand', 'Phillipines', 'Qatar', 'Singapore', 'South Africa',\n",
       "       'Sri Lanka', 'Turkey', 'UAE', 'United Kingdom', 'United States'],\n",
       "      dtype='object')"
      ]
     },
     "execution_count": 485,
     "metadata": {},
     "output_type": "execute_result"
    }
   ],
   "source": [
    "X_train.columns\n"
   ]
  },
  {
   "cell_type": "code",
   "execution_count": 486,
   "metadata": {},
   "outputs": [],
   "source": [
    "X_train.drop(['Country','Continent'],axis=1,inplace=True)\n",
    "X_test.drop(['Country','Continent'],axis=1,inplace=True)"
   ]
  },
  {
   "cell_type": "code",
   "execution_count": 487,
   "metadata": {
    "scrolled": true
   },
   "outputs": [
    {
     "data": {
      "text/plain": [
       "Index(['Table_booking', 'Online_delivery', 'Delivering_now', 'Price_range',\n",
       "       'Rating_text', 'Votes', 'no_of_cuisines', 'New_cost', 'Africa',\n",
       "       'Americas', 'Asia', 'Australia_continent', 'Europe', 'Australia',\n",
       "       'Brazil', 'Canada', 'India', 'Indonesia', 'New Zealand', 'Phillipines',\n",
       "       'Qatar', 'Singapore', 'South Africa', 'Sri Lanka', 'Turkey', 'UAE',\n",
       "       'United Kingdom', 'United States'],\n",
       "      dtype='object')"
      ]
     },
     "execution_count": 487,
     "metadata": {},
     "output_type": "execute_result"
    }
   ],
   "source": [
    "X_train.columns\n"
   ]
  },
  {
   "cell_type": "code",
   "execution_count": 488,
   "metadata": {},
   "outputs": [],
   "source": [
    "X_train.columns=['Table_booking', 'Online_delivery', 'Delivering_now', 'Price_range',\n",
    "       'Rating_text', 'Votes', 'no_of_cuisines', 'New_cost', 'Africa',\n",
    "       'Americas', 'Asia', 'Australia_continent', 'Europe', 'Australia',\n",
    "       'Brazil', 'Canada', 'India', 'Indonesia', 'NewZealand', 'Phillipines',\n",
    "       'Qatar', 'Singapore', 'SouthAfrica', 'SriLanka', 'Turkey', 'UAE',\n",
    "       'UnitedKingdom', 'UnitedStates']\n",
    "X_test.columns=['Table_booking', 'Online_delivery', 'Delivering_now', 'Price_range',\n",
    "       'Rating_text', 'Votes', 'no_of_cuisines', 'New_cost', 'Africa',\n",
    "       'Americas', 'Asia', 'Australia_continent', 'Europe', 'Australia',\n",
    "       'Brazil', 'Canada', 'India', 'Indonesia', 'NewZealand', 'Phillipines',\n",
    "       'Qatar', 'Singapore', 'SouthAfrica', 'SriLanka', 'Turkey', 'UAE',\n",
    "       'UnitedKingdom', 'UnitedStates']"
   ]
  },
  {
   "cell_type": "code",
   "execution_count": 489,
   "metadata": {},
   "outputs": [],
   "source": [
    "from sklearn import model_selection\n",
    "from scipy.stats import zscore\n",
    "from sklearn.metrics import explained_variance_score"
   ]
  },
  {
   "cell_type": "code",
   "execution_count": 490,
   "metadata": {},
   "outputs": [],
   "source": [
    "train_scale=pd.DataFrame(zscore(X_train,axis=1))\n",
    "test_scale=pd.DataFrame(zscore(X_test,axis=1))"
   ]
  },
  {
   "cell_type": "code",
   "execution_count": 491,
   "metadata": {},
   "outputs": [],
   "source": [
    "train_scale.columns=['Table_booking', 'Online_delivery', 'Delivering_now', 'Price_range',\n",
    "       'Rating_text', 'Votes', 'no_of_cuisines', 'New_cost', 'Africa',\n",
    "       'Americas', 'Asia', 'Australia_continent', 'Europe', 'Australia',\n",
    "       'Brazil', 'Canada', 'India', 'Indonesia', 'NewZealand', 'Phillipines',\n",
    "       'Qatar', 'Singapore', 'SouthAfrica', 'SriLanka', 'Turkey', 'UAE',\n",
    "       'UnitedKingdom', 'UnitedStates']\n",
    "test_scale.columns=['Table_booking', 'Online_delivery', 'Delivering_now', 'Price_range',\n",
    "       'Rating_text', 'Votes', 'no_of_cuisines', 'New_cost', 'Africa',\n",
    "       'Americas', 'Asia', 'Australia_continent', 'Europe', 'Australia',\n",
    "       'Brazil', 'Canada', 'India', 'Indonesia', 'NewZealand', 'Phillipines',\n",
    "       'Qatar', 'Singapore', 'SouthAfrica', 'SriLanka', 'Turkey', 'UAE',\n",
    "       'UnitedKingdom', 'UnitedStates']"
   ]
  },
  {
   "cell_type": "code",
   "execution_count": 492,
   "metadata": {
    "scrolled": true
   },
   "outputs": [
    {
     "data": {
      "text/html": [
       "<div>\n",
       "<style scoped>\n",
       "    .dataframe tbody tr th:only-of-type {\n",
       "        vertical-align: middle;\n",
       "    }\n",
       "\n",
       "    .dataframe tbody tr th {\n",
       "        vertical-align: top;\n",
       "    }\n",
       "\n",
       "    .dataframe thead th {\n",
       "        text-align: right;\n",
       "    }\n",
       "</style>\n",
       "<table border=\"1\" class=\"dataframe\">\n",
       "  <thead>\n",
       "    <tr style=\"text-align: right;\">\n",
       "      <th></th>\n",
       "      <th>Table_booking</th>\n",
       "      <th>Online_delivery</th>\n",
       "      <th>Delivering_now</th>\n",
       "      <th>Price_range</th>\n",
       "      <th>Rating_text</th>\n",
       "      <th>Votes</th>\n",
       "      <th>no_of_cuisines</th>\n",
       "      <th>New_cost</th>\n",
       "      <th>Africa</th>\n",
       "      <th>Americas</th>\n",
       "      <th>...</th>\n",
       "      <th>NewZealand</th>\n",
       "      <th>Phillipines</th>\n",
       "      <th>Qatar</th>\n",
       "      <th>Singapore</th>\n",
       "      <th>SouthAfrica</th>\n",
       "      <th>SriLanka</th>\n",
       "      <th>Turkey</th>\n",
       "      <th>UAE</th>\n",
       "      <th>UnitedKingdom</th>\n",
       "      <th>UnitedStates</th>\n",
       "    </tr>\n",
       "  </thead>\n",
       "  <tbody>\n",
       "    <tr>\n",
       "      <th>0</th>\n",
       "      <td>-0.261832</td>\n",
       "      <td>-0.261832</td>\n",
       "      <td>-0.261832</td>\n",
       "      <td>-0.017455</td>\n",
       "      <td>0.104733</td>\n",
       "      <td>5.114443</td>\n",
       "      <td>-0.017455</td>\n",
       "      <td>0.593485</td>\n",
       "      <td>-0.261832</td>\n",
       "      <td>-0.261832</td>\n",
       "      <td>...</td>\n",
       "      <td>-0.261832</td>\n",
       "      <td>-0.261832</td>\n",
       "      <td>-0.261832</td>\n",
       "      <td>-0.261832</td>\n",
       "      <td>-0.261832</td>\n",
       "      <td>-0.261832</td>\n",
       "      <td>-0.261832</td>\n",
       "      <td>-0.261832</td>\n",
       "      <td>-0.261832</td>\n",
       "      <td>-0.261832</td>\n",
       "    </tr>\n",
       "    <tr>\n",
       "      <th>1</th>\n",
       "      <td>-0.398334</td>\n",
       "      <td>-0.398334</td>\n",
       "      <td>-0.398334</td>\n",
       "      <td>0.493934</td>\n",
       "      <td>0.493934</td>\n",
       "      <td>4.063003</td>\n",
       "      <td>0.493934</td>\n",
       "      <td>2.724602</td>\n",
       "      <td>-0.398334</td>\n",
       "      <td>-0.398334</td>\n",
       "      <td>...</td>\n",
       "      <td>-0.398334</td>\n",
       "      <td>-0.398334</td>\n",
       "      <td>-0.398334</td>\n",
       "      <td>-0.398334</td>\n",
       "      <td>-0.398334</td>\n",
       "      <td>-0.398334</td>\n",
       "      <td>-0.398334</td>\n",
       "      <td>-0.398334</td>\n",
       "      <td>-0.398334</td>\n",
       "      <td>-0.398334</td>\n",
       "    </tr>\n",
       "    <tr>\n",
       "      <th>2</th>\n",
       "      <td>-0.340418</td>\n",
       "      <td>-0.340418</td>\n",
       "      <td>-0.340418</td>\n",
       "      <td>0.897466</td>\n",
       "      <td>0.897466</td>\n",
       "      <td>-0.340418</td>\n",
       "      <td>0.278524</td>\n",
       "      <td>4.858696</td>\n",
       "      <td>-0.340418</td>\n",
       "      <td>-0.340418</td>\n",
       "      <td>...</td>\n",
       "      <td>-0.340418</td>\n",
       "      <td>-0.340418</td>\n",
       "      <td>-0.340418</td>\n",
       "      <td>-0.340418</td>\n",
       "      <td>-0.340418</td>\n",
       "      <td>-0.340418</td>\n",
       "      <td>-0.340418</td>\n",
       "      <td>-0.340418</td>\n",
       "      <td>-0.340418</td>\n",
       "      <td>-0.340418</td>\n",
       "    </tr>\n",
       "    <tr>\n",
       "      <th>3</th>\n",
       "      <td>-0.211831</td>\n",
       "      <td>-0.211831</td>\n",
       "      <td>-0.211831</td>\n",
       "      <td>-0.140140</td>\n",
       "      <td>-0.140140</td>\n",
       "      <td>5.188931</td>\n",
       "      <td>-0.140140</td>\n",
       "      <td>0.055817</td>\n",
       "      <td>-0.211831</td>\n",
       "      <td>-0.211831</td>\n",
       "      <td>...</td>\n",
       "      <td>-0.211831</td>\n",
       "      <td>-0.211831</td>\n",
       "      <td>-0.211831</td>\n",
       "      <td>-0.211831</td>\n",
       "      <td>-0.211831</td>\n",
       "      <td>-0.211831</td>\n",
       "      <td>-0.211831</td>\n",
       "      <td>-0.211831</td>\n",
       "      <td>-0.211831</td>\n",
       "      <td>-0.211831</td>\n",
       "    </tr>\n",
       "    <tr>\n",
       "      <th>4</th>\n",
       "      <td>-0.459933</td>\n",
       "      <td>-0.459933</td>\n",
       "      <td>-0.459933</td>\n",
       "      <td>1.003490</td>\n",
       "      <td>2.466914</td>\n",
       "      <td>-0.459933</td>\n",
       "      <td>1.003490</td>\n",
       "      <td>3.637653</td>\n",
       "      <td>-0.459933</td>\n",
       "      <td>-0.459933</td>\n",
       "      <td>...</td>\n",
       "      <td>-0.459933</td>\n",
       "      <td>-0.459933</td>\n",
       "      <td>-0.459933</td>\n",
       "      <td>-0.459933</td>\n",
       "      <td>-0.459933</td>\n",
       "      <td>-0.459933</td>\n",
       "      <td>-0.459933</td>\n",
       "      <td>-0.459933</td>\n",
       "      <td>-0.459933</td>\n",
       "      <td>-0.459933</td>\n",
       "    </tr>\n",
       "  </tbody>\n",
       "</table>\n",
       "<p>5 rows × 28 columns</p>\n",
       "</div>"
      ],
      "text/plain": [
       "   Table_booking  Online_delivery  Delivering_now  Price_range  Rating_text  \\\n",
       "0      -0.261832        -0.261832       -0.261832    -0.017455     0.104733   \n",
       "1      -0.398334        -0.398334       -0.398334     0.493934     0.493934   \n",
       "2      -0.340418        -0.340418       -0.340418     0.897466     0.897466   \n",
       "3      -0.211831        -0.211831       -0.211831    -0.140140    -0.140140   \n",
       "4      -0.459933        -0.459933       -0.459933     1.003490     2.466914   \n",
       "\n",
       "      Votes  no_of_cuisines  New_cost    Africa  Americas      ...       \\\n",
       "0  5.114443       -0.017455  0.593485 -0.261832 -0.261832      ...        \n",
       "1  4.063003        0.493934  2.724602 -0.398334 -0.398334      ...        \n",
       "2 -0.340418        0.278524  4.858696 -0.340418 -0.340418      ...        \n",
       "3  5.188931       -0.140140  0.055817 -0.211831 -0.211831      ...        \n",
       "4 -0.459933        1.003490  3.637653 -0.459933 -0.459933      ...        \n",
       "\n",
       "   NewZealand  Phillipines     Qatar  Singapore  SouthAfrica  SriLanka  \\\n",
       "0   -0.261832    -0.261832 -0.261832  -0.261832    -0.261832 -0.261832   \n",
       "1   -0.398334    -0.398334 -0.398334  -0.398334    -0.398334 -0.398334   \n",
       "2   -0.340418    -0.340418 -0.340418  -0.340418    -0.340418 -0.340418   \n",
       "3   -0.211831    -0.211831 -0.211831  -0.211831    -0.211831 -0.211831   \n",
       "4   -0.459933    -0.459933 -0.459933  -0.459933    -0.459933 -0.459933   \n",
       "\n",
       "     Turkey       UAE  UnitedKingdom  UnitedStates  \n",
       "0 -0.261832 -0.261832      -0.261832     -0.261832  \n",
       "1 -0.398334 -0.398334      -0.398334     -0.398334  \n",
       "2 -0.340418 -0.340418      -0.340418     -0.340418  \n",
       "3 -0.211831 -0.211831      -0.211831     -0.211831  \n",
       "4 -0.459933 -0.459933      -0.459933     -0.459933  \n",
       "\n",
       "[5 rows x 28 columns]"
      ]
     },
     "execution_count": 492,
     "metadata": {},
     "output_type": "execute_result"
    }
   ],
   "source": [
    "train_scale.head()\n"
   ]
  },
  {
   "cell_type": "code",
   "execution_count": 493,
   "metadata": {},
   "outputs": [],
   "source": [
    "train_scale=np.round(train_scale,decimals=4)\n",
    "test_scale=np.round(test_scale,decimals=4)\n",
    "y_train=np.round(y_train,decimals=4)"
   ]
  },
  {
   "cell_type": "markdown",
   "metadata": {},
   "source": [
    "LINEAR REGRESSION\n"
   ]
  },
  {
   "cell_type": "code",
   "execution_count": 494,
   "metadata": {},
   "outputs": [],
   "source": [
    "from sklearn.linear_model import LinearRegression\n",
    "from sklearn import metrics\n",
    "from sklearn.metrics import r2_score"
   ]
  },
  {
   "cell_type": "code",
   "execution_count": 495,
   "metadata": {},
   "outputs": [
    {
     "name": "stdout",
     "output_type": "stream",
     "text": [
      "0.847248722492469\n",
      "RMSE score through Linear regression :  0.5886694756568686\n"
     ]
    }
   ],
   "source": [
    "lr = LinearRegression() # Defing the linear regression model \n",
    "lr.fit(train_scale,y_train) #Fitting the data into the algorithm\n",
    "lr_pred = lr.predict(test_scale) #Predicting using Linear regression model\n",
    "\n",
    "#Metrics for comaprision between prediction and original values\n",
    "print(r2_score(y_test,np.round(lr_pred,decimals=1))) \n",
    "print('RMSE score through Linear regression : ',np.sqrt(metrics.mean_squared_error(y_test,np.round(lr_pred,decimals=1))))"
   ]
  },
  {
   "cell_type": "markdown",
   "metadata": {},
   "source": [
    "DECISION TREE REGRESSOR"
   ]
  },
  {
   "cell_type": "code",
   "execution_count": 496,
   "metadata": {},
   "outputs": [
    {
     "name": "stdout",
     "output_type": "stream",
     "text": [
      "RMSE score through Decision tree regression :  0.35113215354523536\n"
     ]
    }
   ],
   "source": [
    "from sklearn.tree import DecisionTreeRegressor\n",
    "dt= DecisionTreeRegressor()\n",
    "dt.fit(train_scale,y_train)\n",
    "dt_pred=dt.predict(test_scale)\n",
    "print('RMSE score through Decision tree regression : ',np.sqrt(metrics.mean_squared_error(y_test,np.round(dt_pred,decimals=1))))"
   ]
  },
  {
   "cell_type": "markdown",
   "metadata": {},
   "source": [
    "RANDOM FOREST"
   ]
  },
  {
   "cell_type": "code",
   "execution_count": 497,
   "metadata": {
    "scrolled": true
   },
   "outputs": [
    {
     "name": "stderr",
     "output_type": "stream",
     "text": [
      "C:\\Users\\deshi\\Anaconda3\\lib\\site-packages\\sklearn\\ensemble\\forest.py:246: FutureWarning:\n",
      "\n",
      "The default value of n_estimators will change from 10 in version 0.20 to 100 in 0.22.\n",
      "\n"
     ]
    },
    {
     "name": "stdout",
     "output_type": "stream",
     "text": [
      "RMSE score through Random Forest :  0.2866779183865399\n"
     ]
    }
   ],
   "source": [
    "from sklearn.ensemble import RandomForestRegressor\n",
    "rf= RandomForestRegressor()\n",
    "rf.fit(train_scale,y_train)\n",
    "rf_pred=rf.predict(test_scale)\n",
    "print('RMSE score through Random Forest : ',np.sqrt(metrics.mean_squared_error(y_test,np.round(rf_pred,decimals=1))))"
   ]
  },
  {
   "cell_type": "code",
   "execution_count": 498,
   "metadata": {},
   "outputs": [
    {
     "data": {
      "image/png": "[encoded data removed]",
      "text/plain": [
       "<Figure size 600x400 with 1 Axes>"
      ]
     },
     "metadata": {
      "image/png": {
       "height": 368,
       "width": 525
      },
      "needs_background": "light"
     },
     "output_type": "display_data"
    }
   ],
   "source": [
    "import matplotlib.pyplot as plt\n",
    "plt.figure(figsize=(6,4),dpi=100)\n",
    "plt.plot(y_test,np.round(rf_pred,decimals=1),'*')\n",
    "plt.xlabel('Actual Rating',size=11)\n",
    "plt.ylabel('Predicted Ratinge using Random Forest',size=11)\n",
    "plt.show()"
   ]
  },
  {
   "cell_type": "code",
   "execution_count": 499,
   "metadata": {},
   "outputs": [
    {
     "data": {
      "image/png": "[encoded data removed]",
      "text/plain": [
       "<Figure size 600x400 with 1 Axes>"
      ]
     },
     "metadata": {
      "image/png": {
       "height": 367,
       "width": 525
      },
      "needs_background": "light"
     },
     "output_type": "display_data"
    }
   ],
   "source": [
    "plt.figure(figsize=(6,4),dpi=100)\n",
    "plt.plot(y_test,rf_pred,'*',label='Random forest')\n",
    "plt.plot(y_test,dt_pred,'o',color='red',label='Decision tree',marker='s',markersize=4)\n",
    "plt.legend()\n",
    "plt.xlabel('Actual VRating',size=11)\n",
    "plt.ylabel('Predicted Rating',size=11)\n",
    "plt.show()"
   ]
  },
  {
   "cell_type": "markdown",
   "metadata": {},
   "source": [
    "XG Boost Regressor"
   ]
  },
  {
   "cell_type": "code",
   "execution_count": 501,
   "metadata": {},
   "outputs": [
    {
     "name": "stderr",
     "output_type": "stream",
     "text": [
      "C:\\Users\\deshi\\Anaconda3\\lib\\site-packages\\xgboost\\core.py:587: FutureWarning:\n",
      "\n",
      "Series.base is deprecated and will be removed in a future version\n",
      "\n"
     ]
    },
    {
     "name": "stdout",
     "output_type": "stream",
     "text": [
      "[14:28:27] WARNING: C:/Jenkins/workspace/xgboost-win64_release_0.90/src/objective/regression_obj.cu:152: reg:linear is now deprecated in favor of reg:squarederror.\n",
      "RMSE score through XGBoost :  0.2701153773436866\n",
      "R square value using XGBoost 0.9681836825457216\n",
      "Variance covered by XG Boost Regression :  0.9671952431290927\n"
     ]
    }
   ],
   "source": [
    "import xgboost\n",
    "\n",
    "xgb = xgboost.XGBRegressor(n_estimators=100, learning_rate=0.3, max_depth=4)\n",
    "xgb.fit(train_scale,y_train)\n",
    "xgb_pred= xgb.predict(test_scale)\n",
    "print('RMSE score through XGBoost : ',np.sqrt(metrics.mean_squared_error(y_test,np.round(xgb_pred,decimals=1))))\n",
    "print('R square value using XGBoost',r2_score(y_test,xgb_pred))\n",
    "print('Variance covered by XG Boost Regression : ',explained_variance_score(xgb_pred,y_test))"
   ]
  },
  {
   "cell_type": "code",
   "execution_count": 502,
   "metadata": {},
   "outputs": [
    {
     "name": "stdout",
     "output_type": "stream",
     "text": [
      "RMSE score through Linear Regression :  0.5875018758773042\n",
      "R square value using Linear Regression 0.847248722492469\n",
      "Variance covered by Linear Regression :  0.8243990924914902\n",
      "\n",
      "\n",
      "RMSE score through Decision tree Regression :  0.35119503362185645\n",
      "R square value using Decision Tree Regression 0.9456520687300525\n",
      "Variance covered by Decision Tree Regression :  0.9453019088065975\n",
      "\n",
      "\n",
      "RMSE score through Random Forest :  0.2866779183865399\n",
      "R square value using Random Forest 0.9641882121334496\n",
      "Variance covered by Random Forest :  0.9630742100342846\n",
      "\n",
      "\n",
      "RMSE score through XGBoost :  0.2701153773436866\n",
      "R square value using XGBoost 0.9681836825457216\n",
      "Variance covered by XG Boost Regression :  0.9671952431290927\n"
     ]
    }
   ],
   "source": [
    "print('RMSE score through Linear Regression : ',np.sqrt(metrics.mean_squared_error(y_test,lr_pred)))\n",
    "print('R square value using Linear Regression',r2_score(y_test,np.round(lr_pred,decimals=1)))\n",
    "print('Variance covered by Linear Regression : ',explained_variance_score(lr_pred,y_test))\n",
    "print('\\n')\n",
    "print('RMSE score through Decision tree Regression : ',np.sqrt(metrics.mean_squared_error(y_test,dt_pred)))\n",
    "print('R square value using Decision Tree Regression',r2_score(y_test,np.round(dt_pred,decimals=1)))\n",
    "print('Variance covered by Decision Tree Regression : ',explained_variance_score(dt_pred,y_test))\n",
    "print('\\n')\n",
    "print('RMSE score through Random Forest : ',np.sqrt(metrics.mean_squared_error(y_test,np.round(rf_pred,decimals=1))))\n",
    "print('R square value using Random Forest',r2_score(y_test,rf_pred))\n",
    "print('Variance covered by Random Forest : ',explained_variance_score(rf_pred,y_test))\n",
    "print('\\n')\n",
    "print('RMSE score through XGBoost : ',np.sqrt(metrics.mean_squared_error(y_test,np.round(xgb_pred,decimals=1))))\n",
    "print('R square value using XGBoost',r2_score(y_test,xgb_pred))\n",
    "print('Variance covered by XG Boost Regression : ',explained_variance_score(xgb_pred,y_test))\n"
   ]
  },
  {
   "cell_type": "code",
   "execution_count": null,
   "metadata": {},
   "outputs": [],
   "source": []
  },
  {
   "cell_type": "code",
   "execution_count": null,
   "metadata": {},
   "outputs": [],
   "source": []
  }
 ],
 "metadata": {
  "kernelspec": {
   "display_name": "Python 3",
   "language": "python",
   "name": "python3"
  },
  "language_info": {
   "codemirror_mode": {
    "name": "ipython",
    "version": 3
   },
   "file_extension": ".py",
   "mimetype": "text/x-python",
   "name": "python",
   "nbconvert_exporter": "python",
   "pygments_lexer": "ipython3",
   "version": "3.7.1"
  }
 },
 "nbformat": 4,
 "nbformat_minor": 2
}
